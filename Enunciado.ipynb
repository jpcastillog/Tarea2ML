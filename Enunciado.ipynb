{
 "cells": [
  {
   "cell_type": "markdown",
   "metadata": {},
   "source": [
    "<img src=\"http://www.exalumnos.usm.cl/wp-content/uploads/2015/06/Isotipo-Negro.gif\" title=\"Title text\" width=\"20%\" height=\"20%\" />\n",
    "\n",
    "\n",
    "<hr style=\"height:2px;border:none\"/>\n",
    "<h1 align='center'> INF-393 Máquinas de Aprendizaje II-2018 </h1>\n",
    "\n",
    "<H3 align='center'> Tarea 2 - Fronteras no Lineales </H3>\n",
    "<hr style=\"height:2px;border:none\"/>\n",
    "\n",
    "**Temas**  \n",
    "* similaridad: KNN\n",
    "* Selección de hı́per-parámetros estructurales en SVM, Arboles de Decisión, k-NN y Redes Neuronales.\n",
    "* Métodos de *kernel*.\n",
    "* Extracción de características.\n",
    "* Múltiples anotaciones\n",
    "\n",
    "** Formalidades **  \n",
    "* Equipos de trabajo de: 2 personas (*cada uno debe estar en condiciones de realizar una presentación y discutir sobre cada punto del trabajo realizado*)\n",
    "* Se debe preparar una presentación de 20 minutos. Presentador será elegido aleatoriamente.\n",
    "* Se debe preparar un (breve) Jupyter/IPython notebook que explique la actividad realizada y las conclusiones del trabajo\n",
    "* Fecha de discusión y entrega: 8 de Noviembre.\n",
    "* Formato de entrega: envı́o de link Github al correo electrónico del ayudante (*<francisco.mena.13@sansano.usm.cl>*) , incluyendo al profesor en copia (*<jnancu@inf.utfsm.cl>*). Por favor especificar el siguiente asunto: [Tarea2-INF393-II-2018]\n",
    "\n",
    "<hr style=\"height:2px;border:none\"/>\n",
    "\n",
    "### Paquetes de instalación\n",
    "\n",
    "Como es usual utilizaremos *numpy, scipy, matplotlib* y *sklearn*. Además de éstas se necesitará instalar **keras**, una librerı́a en python para prototipado rápido de modelos basados en redes neuronales, muy similar en espı́ritu a *sklearn*. La librerı́a puede usar *TensorFlow* o *Theano* como backend, siendo éstas las librerı́as más populares para desarrollar nuevos modelos de redes neuronales o implementar eficientemente modelos conocidos con fines prácticos. Para detalles sobre la instalación puede revisar [[1]](#refs) o escribir un email a su ayudante.\n",
    "\n",
    "\n",
    "\n",
    "La tarea se divide en secciones:\n",
    "\n",
    "[1.](#primero) Sentiment Analysis en Texto  \n",
    "[2.](#segundo) pendiente\n"
   ]
  },
  {
   "cell_type": "markdown",
   "metadata": {},
   "source": [
    "<a id=\"primero\"></a>\n",
    "## 1. Sentiment Analysis en Texto\n",
    "\n",
    "El análisis de emociones o sentimientos se refiere al proceso de extraer información acerca de la actitud\n",
    "que una persona (o grupo de ellas) manifiesta, en un determinado medio o formato digital, con respecto a un\n",
    "tópico o contexto de comunicación. Uno de los casos más estudiados corresponde a determinar la polaridad\n",
    "de un trozo de texto, es decir, clasificar una determinada evaluación escrita (*review*), en que una persona\n",
    "manifiesta una opinión, como *positiva*, *negativa* o *neutral*. Esto también ha sido extendido a otros medios, como lo es analizar la polaridad de textos en redes sociales.  La dificultad de este problema radica en el carácter altamente ambiguo e informal del lenguaje que utilizan naturalmente las personas ası́ como el manejo de negaciones, sarcasmo y abreviaciones en una frase.\n",
    "\n",
    "<img src=\"https://formtitanhelpdeskimage.s3.amazonaws.com/70c78f9df2fd5c130e7021644f78f4c5.jpg\" title=\"Title text\" width=\"40%\" />\n",
    "\n",
    "\n",
    "Los datos que usaremos para esta actividad corresponden a un subconjunto de los datos publicados en **Kaggle**,  en  el  contexto  de  una  competencia  organizada  por  la  Universidad  de  Stanford  [[2]](#refs).   Cada  registro disponible corresponderá a una opinión sobre una película, registrada sobre el sitio *Rotten Tomatoes*.  Para empezar  nos  limitaremos  a  estudiar  textos  anotados  como  positivos  o  negativos,  clases  que  codificaremos como +1 y 0 respectivamente. Los datos pueden ser descargados ejecutando el siguiente código en sistema Unix:\n",
    "```\n",
    "wget -O train_data.csv http://www.inf.utfsm.cl/~jnancu/stanford-subset/polarity.train\n",
    "wget -O test_data.csv http://www.inf.utfsm.cl/~jnancu/stanford-subset/polarity.dev\n",
    "```\n",
    "\n",
    "> Cargue los dos conjuntos de datos a ser trabajados, donde la etiqueta ya viene codificada y la dejaremos como negativo (0) y positivo (1).\n",
    "```python\n",
    "import pandas as pd\n",
    "ftr = open(\"train_data.csv\", \"r\",  encoding=\"ISO-8859-1\")\n",
    "rows = [line.split(\" \",1) for line in ftr.readlines()]\n",
    "df_train = pd.DataFrame(rows, columns=['Sentiment','Text'])\n",
    "df_train['Sentiment'] = (pd.to_numeric(df_train['Sentiment'])+1)/2 # 0 o 1\n",
    "fts = open(\"test_data.csv\", \"r\",  encoding=\"ISO-8859-1\")\n",
    "... #same loading for test\n",
    "df_train_text = df_train.Text\n",
    "df_test_text = df_test.Text\n",
    "labels_train = df_train.Sentiment.values\n",
    "labels_test = df_test.Sentiment.values\n",
    "```"
   ]
  },
  {
   "cell_type": "code",
   "execution_count": 27,
   "metadata": {},
   "outputs": [
    {
     "data": {
      "text/plain": [
       "0       everything's serious , poetic , earnest and --...\n",
       "1       narratively , trouble every day is a plodding ...\n",
       "2       a truly wonderful tale combined with stunning ...\n",
       "3       jason patric and ray liotta make for one splen...\n",
       "4       haneke keeps us at arm's length . guided more ...\n",
       "                              ...                        \n",
       "3549    it takes a strange kind of laziness to waste t...\n",
       "3550    an easy watch , except for the annoying demean...\n",
       "3551    dog soldiers doesn't transcend genre -- it emb...\n",
       "3552    it uses the pain and violence of war as backgr...\n",
       "3553    victor rosa is leguizamo's best movie work so ...\n",
       "Name: Text, Length: 3554, dtype: object"
      ]
     },
     "execution_count": 27,
     "metadata": {},
     "output_type": "execute_result"
    }
   ],
   "source": [
    "import pandas as pd\n",
    "#Train Data\n",
    "ftr = open(\"train_data.csv\", \"r\",  encoding=\"ISO-8859-1\")\n",
    "rows = [line.split(\" \",1) for line in ftr.readlines()]\n",
    "df_train = pd.DataFrame(rows, columns=['Sentiment','Text'])\n",
    "df_train['Sentiment'] = (pd.to_numeric(df_train['Sentiment'])+1)/2 # 0 o 1\n",
    "fts = open(\"test_data.csv\", \"r\",  encoding=\"ISO-8859-1\")\n",
    "\n",
    "#Test Data\n",
    "fts = open(\"test_data.csv\", \"r\",  encoding=\"ISO-8859-1\")\n",
    "rows = [line.split(\" \",1) for line in fts.readlines()]\n",
    "df_test = pd.DataFrame(rows, columns=['Sentiment','Text'])\n",
    "df_test['Sentiment'] = (pd.to_numeric(df_test['Sentiment'])+1)/2 # 0 o 1\n",
    "\n",
    "#Texto Comentarios\n",
    "df_train_text = df_train.Text\n",
    "df_test_text = df_test.Text\n",
    "#Etiquetas\n",
    "labels_train = df_train.Sentiment.values\n",
    "labels_test = df_test.Sentiment.values\n",
    "\n",
    "df_train_text"
   ]
  },
  {
   "cell_type": "markdown",
   "metadata": {},
   "source": [
    "> a) Describa los datos trabajados, como la cantidad de datos en cada conjunto, largo de los textos, la cantidad de ejemplo por cada clase, o alguna otra forma que piense que pueda ser útil para comprender el problema trabajado.\n",
    "```python\n",
    "df_train_sentiment.shape\n",
    "```"
   ]
  },
  {
   "cell_type": "code",
   "execution_count": 28,
   "metadata": {},
   "outputs": [
    {
     "name": "stdout",
     "output_type": "stream",
     "text": [
      "           Text\n",
      "Sentiment      \n",
      "0.0        1784\n",
      "1.0        1770\n"
     ]
    },
    {
     "data": {
      "image/png": "[encoded data removed]",
      "text/plain": [
       "<Figure size 432x288 with 1 Axes>"
      ]
     },
     "metadata": {
      "needs_background": "light"
     },
     "output_type": "display_data"
    }
   ],
   "source": [
    "import matplotlib.pyplot as plt\n",
    "\n",
    "coments_by_sentiment = df_train.groupby(['Sentiment']).count()\n",
    "print(coments_by_sentiment)\n",
    "plt.bar(['0','1'], coments_by_sentiment['Text'], 0.35)\n",
    "plt.xlabel('Etiquetas')\n",
    "plt.ylabel('Nº Comentarios')\n",
    "plt.show()"
   ]
  },
  {
   "cell_type": "code",
   "execution_count": 29,
   "metadata": {},
   "outputs": [
    {
     "data": {
      "text/html": [
       "<div>\n",
       "<style scoped>\n",
       "    .dataframe tbody tr th:only-of-type {\n",
       "        vertical-align: middle;\n",
       "    }\n",
       "\n",
       "    .dataframe tbody tr th {\n",
       "        vertical-align: top;\n",
       "    }\n",
       "\n",
       "    .dataframe thead th {\n",
       "        text-align: right;\n",
       "    }\n",
       "</style>\n",
       "<table border=\"1\" class=\"dataframe\">\n",
       "  <thead>\n",
       "    <tr style=\"text-align: right;\">\n",
       "      <th></th>\n",
       "      <th>Lenght Text</th>\n",
       "    </tr>\n",
       "    <tr>\n",
       "      <th>Sentiment</th>\n",
       "      <th></th>\n",
       "    </tr>\n",
       "  </thead>\n",
       "  <tbody>\n",
       "    <tr>\n",
       "      <td>0.0</td>\n",
       "      <td>114.723094</td>\n",
       "    </tr>\n",
       "    <tr>\n",
       "      <td>1.0</td>\n",
       "      <td>114.690960</td>\n",
       "    </tr>\n",
       "  </tbody>\n",
       "</table>\n",
       "</div>"
      ],
      "text/plain": [
       "           Lenght Text\n",
       "Sentiment             \n",
       "0.0         114.723094\n",
       "1.0         114.690960"
      ]
     },
     "execution_count": 29,
     "metadata": {},
     "output_type": "execute_result"
    }
   ],
   "source": [
    "df_train_len = pd.DataFrame()\n",
    "df_train_len['Sentiment'] = df_train['Sentiment']\n",
    "df_train_len['Lenght Text'] = df_train['Text'].str.len()\n",
    "\n",
    "lenght_by_sentiment = df_train_len.groupby(['Sentiment']).mean()\n",
    "lenght_by_sentiment"
   ]
  },
  {
   "cell_type": "markdown",
   "metadata": {},
   "source": [
    "> b) Construya un conjunto de validación desde el conjunto de entrenamiento para seleccionar modelos. Decida el tamaño dada la cantidad de ejemplos que se tienen para entrenamiento.\n",
    "```python\n",
    "from sklearn.model_selection import train_test_split\n",
    "df_train_text, df_val_text, labels_train, labels_val  = train_test_split(df_train_text, labels_train, test_size= choose size, random_state=0)\n",
    "```"
   ]
  },
  {
   "cell_type": "code",
   "execution_count": 30,
   "metadata": {},
   "outputs": [
    {
     "name": "stdout",
     "output_type": "stream",
     "text": [
      "Size of original train set : 3554\n",
      "Size of new train set:  2843\n",
      "Size of validation set:  711\n"
     ]
    }
   ],
   "source": [
    "import math\n",
    "from sklearn.model_selection import train_test_split\n",
    "\n",
    "\n",
    "print('Size of original train set :', df_train.shape[0])\n",
    "#Se eligen el 20% de los datos de entrenamineto para validación\n",
    "size_test_set = math.ceil(df_train.shape[0]*0.20)\n",
    "df_train_text, df_val_text, labels_train, labels_val  = train_test_split(df_train_text, labels_train, test_size= size_test_set, random_state=0)\n",
    "\n",
    "\n",
    "print('Size of new train set: ', df_train_text.shape[0])\n",
    "print('Size of validation set: ', df_val_text.shape[0])"
   ]
  },
  {
   "cell_type": "markdown",
   "metadata": {},
   "source": [
    "> c) Realice un pre-procesamiento a los textos para normalizar un poco su estructura, para ello utilice el código de ejemplo a continuación, donde se pasa el texto a minúsculas (*lower-casing*), se reducen las mútliples letras, se eliminan palabras sin significados como artículos, pronombres y preposiciones (*stop word removal* [[3]](#refs)), además de pasar las palabras a su tronco léxico con la técnica de *lemmatizer* [[4]](#refs). Comente la importancia de un correcto pre-procesamiento en el domino de lenguaje natural.\n",
    "```python\n",
    "import re, time\n",
    "from nltk.corpus import stopwords\n",
    "from nltk import WordNetLemmatizer, word_tokenize\n",
    "def base_word(word):\n",
    "    wordlemmatizer = WordNetLemmatizer()\n",
    "    return wordlemmatizer.lemmatize(word) \n",
    "def word_extractor(text):\n",
    "    commonwords = stopwords.words('english')\n",
    "    text = re.sub(r'([a-z])\\1+', r'\\1\\1',text) #substitute multiple letter by two\n",
    "    words = \"\"\n",
    "    wordtokens = [ base_word(word.lower()) for word in word_tokenize(text) ]\n",
    "    for word in wordtokens:\n",
    "        if word not in commonwords: #delete stopwords\n",
    "            words+=\" \"+word\n",
    "    return words\n",
    "... #try yourself\n",
    "word_extractor(\"I love to eat cake\")\n",
    "word_extractor(\"I love eating cake\")\n",
    "word_extractor(\"I loved eating the cake\")\n",
    "word_extractor(\"I do not love eating cake\")\n",
    "word_extractor(\"I don't love eating cake\")\n",
    "... #try yourself\n",
    "texts_train = [word_extractor(text) for text in df_train_text]\n",
    "texts_val = [word_extractor(text) for text in df_val_text]\n",
    "texts_test = [word_extractor(text) for text in df_test_text]\n",
    "```"
   ]
  },
  {
   "cell_type": "code",
   "execution_count": 76,
   "metadata": {},
   "outputs": [],
   "source": [
    "import re, time\n",
    "from nltk.corpus import stopwords\n",
    "from nltk import WordNetLemmatizer, word_tokenize\n",
    "def base_word(word):\n",
    "    wordlemmatizer = WordNetLemmatizer()\n",
    "    return wordlemmatizer.lemmatize(word) \n",
    "def word_extractor(text):\n",
    "    commonwords = stopwords.words('english')\n",
    "    text = re.sub(r'([a-z])\\1+', r'\\1\\1',text) #substitute multiple letter by two\n",
    "    words = \"\"\n",
    "    wordtokens = [ base_word(word.lower()) for word in word_tokenize(text) ]\n",
    "    for word in wordtokens:\n",
    "        if word not in commonwords: #delete stopwords\n",
    "            words+=\" \"+word\n",
    "    return words\n",
    "\n",
    "texts_train = [word_extractor(text) for text in df_train_text]\n",
    "texts_val = [word_extractor(text) for text in df_val_text]\n",
    "texts_test = [word_extractor(text) for text in df_test_text]"
   ]
  },
  {
   "cell_type": "markdown",
   "metadata": {},
   "source": [
    "> d) Construya una representación vectorial a los textos de entrada para poder ser manejados y clasificados por los modelos de aprendizaje. Para ésto utilice el tipo de característica más común, que consiste en contar cuántas veces aparece cada términos/palabras en el texto, denominado **TF** (*term-frequency*). Para esto, se necesita contar con un vocabulario base, el cual se construirá a través de la unión de todas las palabras que observemos en los textos de entrenamiento ¿Cuáles son las palabras más frecuentes?\n",
    "```python\n",
    "import numpy as np\n",
    "from sklearn.feature_extraction.text import CountVectorizer\n",
    "vectorizer = CountVectorizer(ngram_range=(1, 1), binary=False) #TF representation\n",
    "vectorizer.fit(texts_train)\n",
    "features_train = vectorizer.transform(texts_train)\n",
    "... #transform val and test\n",
    "vocab = vectorizer.get_feature_names()\n",
    "dist=list(np.array(features_train.sum(axis=0)).reshape(-1,))\n",
    "```"
   ]
  },
  {
   "cell_type": "code",
   "execution_count": 67,
   "metadata": {},
   "outputs": [
    {
     "data": {
      "text/plain": [
       "<2843x8541 sparse matrix of type '<class 'numpy.int64'>'\n",
       "\twith 30574 stored elements in Compressed Sparse Row format>"
      ]
     },
     "execution_count": 67,
     "metadata": {},
     "output_type": "execute_result"
    }
   ],
   "source": [
    "import numpy as np\n",
    "from sklearn.feature_extraction.text import CountVectorizer\n",
    "\n",
    "vectorizer= CountVectorizer(ngram_range=(1, 1), binary=False) #TF representation\n",
    "\n",
    "vectorizer.fit(texts_train)\n",
    "\n",
    "#Matriz dispersa con texto x terminos, con nº de ocurrencias\n",
    "features_train = vectorizer.transform(texts_train)\n",
    "features_val = vectorizer.transform(texts_val)\n",
    "features_test = vectorizer.transform(texts_test)\n",
    "\n",
    "#Vocabulario\n",
    "vocab = vectorizer.get_feature_names()\n",
    "\n",
    "dist_train =list(np.array(features_train.sum(axis=0)).reshape(-1,))\n",
    "dist_val = list(np.array(features_val.sum(axis=0)).reshape(-1,))\n",
    "dist_test = list(np.array(features_test.sum(axis=0)).reshape(-1,))\n",
    "features_train"
   ]
  },
  {
   "cell_type": "markdown",
   "metadata": {},
   "source": [
    "> e) Para tener una visión distinta y entender mejor la representación vectorial realizada, visualice los datos en un plano 2D. Para ésto utilice la técnica **LSA** (*Latent Semantic Analysis*) [[5]](#refs) que a diferencia de PCA, **no centra** los datos antes de realizar la descomposicipon SVD, de ésta manera podrá visualizar el espacio semántico de \"conceptos\" latentes usados en la representación. Coloree cada texto en base a su clase ¿Qué indica lo observado? Comente e interprete los resultados\n",
    "```python\n",
    "from sklearn.decomposition import TruncatedSVD\n",
    "model = TruncatedSVD(n_components=2)\n",
    "model.fit(features_train)\n",
    "x_plot = model.transform(features_train)\n",
    "plt.figure(figsize=(10,5))\n",
    "plt.scatter(x_plot[:,0], x_plot[:,1], c=labels_train)\n",
    "plt.show()\n",
    "```"
   ]
  },
  {
   "cell_type": "code",
   "execution_count": 50,
   "metadata": {},
   "outputs": [
    {
     "name": "stdout",
     "output_type": "stream",
     "text": [
      "(2843, 2)\n"
     ]
    },
    {
     "data": {
      "image/png": "[encoded data removed]",
      "text/plain": [
       "<Figure size 720x360 with 1 Axes>"
      ]
     },
     "metadata": {
      "needs_background": "light"
     },
     "output_type": "display_data"
    }
   ],
   "source": [
    "from sklearn.decomposition import TruncatedSVD\n",
    "model = TruncatedSVD(n_components=2)\n",
    "model.fit(features_train)\n",
    "x_plot = model.transform(features_train)\n",
    "print(x_plot.shape)\n",
    "plt.figure(figsize=(10,5))\n",
    "plt.scatter(x_plot[:,0], x_plot[:,1], c=labels_train)\n",
    "plt.show()"
   ]
  },
  {
   "cell_type": "markdown",
   "metadata": {},
   "source": [
    "Se observan almenos 6 agrupaciones de textos(comentarios), que tendrian relación entre si. Sin embargo estas agrupaciones no se observan que tenga alguna relación la etiqueta de \"sentimentalidad\" del comentario, es decir, si es positivo o negativo, por que se puede decir desde la reducción de dimensionalidad de LSA es que de acuerdo a TF los comentarios son similares si utilizan terminos similares, por lo que no necesariamente comentarios positivos tendran terminos similares, lo mismo ocurre con los comentarios negativos. Por lo tanto como se observa que comentarios y negativos se tienden a agrupar en un mismo \"grupo\", esto se deveria que estos hablan de la misma pelicula o generos similares de esta, en este sentido si se tienden a repetir terminos como lo son los personajes o titulos de las películas."
   ]
  },
  {
   "cell_type": "markdown",
   "metadata": {},
   "source": [
    "> f) Entrene un modelo de Regresión Logística Regularizado (utilizando como penalizador la norma $l_2$). Varíe el parámetro de regularización $C$, en potencias de 10, midiendo el error de predicción obtenido sobre los datos de entrenamiento y validación, construya un gráfico que muestre la variación de ambos errores respecto al parámetro $C$. Explique el significado y valor esperado del parámetro de regularización.\n",
    "```python\n",
    "from sklearn.linear_model import LogisticRegression\n",
    "def do_LOGIT(x,y,xv,yv, param):\n",
    "    print(\"Param C= \",param)\n",
    "    model= LogisticRegression()\n",
    "    model.set_params(C=param)\n",
    "    model.fit(x,y)\n",
    "    train_acc = model.score(x,y)\n",
    "    test_acc = model.score(xv,yv)\n",
    "    return model, train_acc, test_acc\n",
    "Cs = [10**i for i in np.arange(-4,4)]\n",
    "model, train_acc, test_acc = do_LOGIT(features_train,labels_train,features_val,labels_val, param= ...)\n",
    "```"
   ]
  },
  {
   "cell_type": "code",
   "execution_count": 98,
   "metadata": {},
   "outputs": [
    {
     "name": "stdout",
     "output_type": "stream",
     "text": [
      "Param C=  0.0001\n",
      "Param C=  0.001\n",
      "Param C=  0.01\n",
      "Param C=  0.1\n",
      "Param C=  1.0\n",
      "Param C=  10.0\n",
      "Param C=  100.0\n",
      "Param C=  1000.0\n"
     ]
    },
    {
     "name": "stderr",
     "output_type": "stream",
     "text": [
      "/Library/Frameworks/Python.framework/Versions/3.7/lib/python3.7/site-packages/sklearn/linear_model/logistic.py:432: FutureWarning: Default solver will be changed to 'lbfgs' in 0.22. Specify a solver to silence this warning.\n",
      "  FutureWarning)\n"
     ]
    },
    {
     "data": {
      "image/png": "[encoded data removed]",
      "text/plain": [
       "<Figure size 432x288 with 1 Axes>"
      ]
     },
     "metadata": {
      "needs_background": "light"
     },
     "output_type": "display_data"
    }
   ],
   "source": [
    "from sklearn.linear_model import LogisticRegression\n",
    "\n",
    "def do_LOGIT(x,y,xv,yv, param):\n",
    "    print(\"Param C= \",param)\n",
    "    model= LogisticRegression()\n",
    "    model.set_params(penalty='l2',C=param)\n",
    "    model.fit(x,y)\n",
    "    train_acc = model.score(x,y)\n",
    "    test_acc = model.score(xv,yv)\n",
    "    return model, train_acc, test_acc\n",
    "\n",
    "Cs = [10**i for i in np.arange(-4,4, dtype = float)]\n",
    "train_error = []\n",
    "test_error = []\n",
    "\n",
    "for c in Cs:   \n",
    "    model, train_acc, test_acc = do_LOGIT(features_train,labels_train,features_val,labels_val, param=c)\n",
    "    train_error.append(1-train_acc)\n",
    "    test_error.append(1-test_acc)\n",
    "plt.plot(Cs, train_error, label='train')\n",
    "plt.plot(Cs, test_error, label='test')\n",
    "plt.legend()\n",
    "plt.xlabel('C')\n",
    "plt.ylabel('Accuracy')\n",
    "plt.xscale('log')\n",
    "plt.show()"
   ]
  },
  {
   "cell_type": "markdown",
   "metadata": {},
   "source": [
    "Existe Overfiting(sobreajuste)..."
   ]
  },
  {
   "cell_type": "markdown",
   "metadata": {},
   "source": [
    "> g) Entrene una Máquina de Soporte Vectorial (SVM) con distintos kernels. Similar a lo anterior, construya un gráfico que muestre la variación de ambos errores respecto al parámetro de regularización $C$ para cada tipo de kernel que experimente. Explique el significado y valor esperado de los parámetros en este modelo.\n",
    "```python\n",
    "from sklearn.svm import SVC as SVM #SVC is for classification\n",
    "def do_SVM(x,y,xv,yv, param, kernel='linear'):\n",
    "    print(\"Param C= \",C, 'Kernel= ', kernel)\n",
    "    model= SVM()\n",
    "    model.set_params(C=C,kernel=kernel) #try rbf and linear at least\n",
    "    model.fit(x,y)\n",
    "    train_acc = model.score(x,y)\n",
    "    test_acc = model.score(xv,yv)\n",
    "    return model, train_acc, test_acc\n",
    "Cs = [10**i for i in np.arange(-4,4)]\n",
    "```"
   ]
  },
  {
   "cell_type": "code",
   "execution_count": 143,
   "metadata": {},
   "outputs": [
    {
     "name": "stdout",
     "output_type": "stream",
     "text": [
      "2.0 2.0\n"
     ]
    },
    {
     "data": {
      "image/png": "[encoded data removed]",
      "text/plain": [
       "<Figure size 864x576 with 4 Axes>"
      ]
     },
     "metadata": {
      "needs_background": "light"
     },
     "output_type": "display_data"
    }
   ],
   "source": [
    "from sklearn.svm import SVC as SVM #SVC is for classification\n",
    "def do_SVM(x,y,xv,yv, param, kernel='linear'):\n",
    "    #print(\"Param C= \", param, 'Kernel= ', kernel)\n",
    "    model= SVM(gamma='auto')\n",
    "    model.set_params(C=param,kernel=kernel) #try rbf and linear at least\n",
    "    model.fit(x,y)\n",
    "    train_acc = model.score(x,y)\n",
    "    test_acc = model.score(xv,yv)\n",
    "    return model, train_acc, test_acc\n",
    "Cs = [10**i for i in np.arange(-4,4,dtype=float)]\n",
    "\n",
    "kernels = ['linear', 'poly', 'rbf', 'sigmoid']\n",
    "\n",
    "def mul_kernels_SVM(x, y, xv, yv, Cs, kernels, do_SVM):\n",
    "    print(len(kernels)/2, len(kernels)/2)\n",
    "    fig, axs = plt.subplots(int(len(kernels)/2), int(len(kernels)/2), \n",
    "                            sharex='col', sharey='row', \n",
    "                            gridspec_kw={'hspace': 0.2, 'wspace': 0},\n",
    "                            figsize=(12,8)\n",
    "                           )\n",
    "    for i, kernel in enumerate(kernels):\n",
    "        train_error = []\n",
    "        test_error = []\n",
    "        for c in Cs:\n",
    "            model, train_acc, test_acc = do_SVM(x, y, xv, yv, param=c, kernel=kernel)\n",
    "            train_error.append(1-train_acc)\n",
    "            test_error.append(1-test_acc)\n",
    "        axs[i%2, int(i/2)].plot(Cs, train_error, 'b', label='train')\n",
    "        axs[i%2, int(i/2)].plot(Cs, test_error, 'r',label='test')\n",
    "        axs[i%2, int(i/2)].set_title(kernel)\n",
    "        axs[i%2, int(i/2)].legend()\n",
    "    for ax in axs.flat:\n",
    "        ax.set(xlabel='C', ylabel='Error', xscale='log')\n",
    "    for ax in axs.flat:\n",
    "        ax.label_outer()\n",
    "    plt.legend()\n",
    "    plt.show()\n",
    "        \n",
    "mul_kernels_SVM(features_train, labels_train, features_val, labels_val, Cs=Cs, kernels=kernels, do_SVM=do_SVM)\n"
   ]
  },
  {
   "cell_type": "markdown",
   "metadata": {},
   "source": [
    "> h) Utilice el algoritmo de similaridad k-NN para intentar resolver el problema. Varíe el parámetro de los vecinos $k$ en un rango que estime conveniente y realice graficos de errores como en las preguntas anteriores. Comente sobre el valor esperado de este parámetro.\n",
    "```python\n",
    "from sklearn.neighbors import KNeighborsClassifier\n",
    "def do_KNN(x,y,xv,yv, param):\n",
    "    model = KNeighborsClassifier()\n",
    "    print(\"Param K= \",param)\n",
    "    model.set_params(n_neighbors=param)\n",
    "    model.fit(x,y)\n",
    "    train_acc = model.score(x,y)\n",
    "    test_acc = model.score(xv,yv)\n",
    "    return model, train_acc, test_acc\n",
    "Ks = np.arange(1, features_train.shape[1], steps)\n",
    "```"
   ]
  },
  {
   "cell_type": "code",
   "execution_count": 177,
   "metadata": {},
   "outputs": [
    {
     "name": "stdout",
     "output_type": "stream",
     "text": [
      "[   1  101  201  301  401  501  601  701  801  901 1001 1101 1201 1301\n",
      " 1401 1501 1601 1701 1801 1901 2001 2101 2201 2301 2401 2501 2601 2701\n",
      " 2801]\n",
      "1.0\n"
     ]
    },
    {
     "data": {
      "image/png": "[encoded data removed]",
      "text/plain": [
       "<Figure size 432x288 with 1 Axes>"
      ]
     },
     "metadata": {
      "needs_background": "light"
     },
     "output_type": "display_data"
    },
    {
     "name": "stdout",
     "output_type": "stream",
     "text": [
      "[0.0, 0.3865634892718959, 0.4013366162504397, 0.3992261695392192, 0.3739008090045727, 0.4393246570524094, 0.4836440379880408, 0.4590221596904678, 0.48047836792121, 0.4769609567358424, 0.48680970805487156, 0.49067886035877595, 0.494899753781217, 0.49736194161097436, 0.49736194161097436, 0.4977136827295111, 0.49595497713682735, 0.4938445304256067, 0.4945480126626802, 0.494899753781217, 0.4998241294407316, 0.4941962715441435, 0.47133309883925434, 0.4692226521280337, 0.457263454097784, 0.4671122054168132, 0.4491734083714386, 0.4431938093563138, 0.49876890608512137]\n"
     ]
    }
   ],
   "source": [
    "from sklearn.neighbors import KNeighborsClassifier\n",
    "def do_KNN(x,y,xv,yv, param):\n",
    "    model = KNeighborsClassifier()\n",
    "    #print(\"Param K= \",param)\n",
    "    model.set_params(n_neighbors=param)\n",
    "    model.fit(x,y)\n",
    "    train_acc = model.score(x,y)\n",
    "    test_acc = model.score(xv,yv)\n",
    "    return model, train_acc, test_acc\n",
    "\n",
    "Ks = np.arange(1, features_train.shape[0], 100)\n",
    "\n",
    "print(Ks)\n",
    "\n",
    "model, train_acc, test_acc = do_KNN(features_train, labels_train, features_val, labels_val, 1)\n",
    "print(train_acc)\n",
    "train_accuracy = []\n",
    "test_accuracy = []\n",
    "\n",
    "for k in Ks:\n",
    "    model, train_acc, test_acc = do_KNN(features_train, labels_train, features_val, labels_val, k)\n",
    "    train_accuracy.append(1-train_acc)\n",
    "    test_accuracy.append(1-test_acc)\n",
    "\n",
    "plt.plot(Ks, train_accuracy, 'b', label='train')\n",
    "plt.plot(Ks, test_accuracy, 'r', label='test')\n",
    "plt.legend()\n",
    "plt.show()\n",
    "print(train_accuracy)"
   ]
  },
  {
   "cell_type": "markdown",
   "metadata": {},
   "source": [
    "> i) Entrene un Arbol de Decisión para resolver el problema. Varíe los parámetros de *max depth* y *min samples split* de manera separada, constuyendo gráficos de error respecto a estos parámetros. *Los valores que se presentan son sugerencias, no es necesario utilizar los mismos*. Comente sobre la diferencia entre la selección de estos dos parámetros.\n",
    "```python\n",
    "from sklearn.tree import DecisionTreeClassifier as Tree\n",
    "def do_Tree(x,y,xv,yv, param_d=None, param_m=2):\n",
    "    model= Tree()\n",
    "    print(\"Param Max-D= \",param_d, 'Min-samples-S= ', param_m)\n",
    "    model.set_params(max_depth=param_d, min_samples_split=param_m) \n",
    "    model.fit(x,y)\n",
    "    train_acc = model.score(x,y)\n",
    "    test_acc = model.score(xv,yv)\n",
    "    return model, train_acc, test_acc\n",
    "Depths = np.arange(1, features_train.shape[1], steps ) #choose steps\n",
    "SamplesS = np.arange(2, features_train.shape[0] , steps ) #choose steps\n",
    "```"
   ]
  },
  {
   "cell_type": "code",
   "execution_count": 193,
   "metadata": {},
   "outputs": [
    {
     "name": "stdout",
     "output_type": "stream",
     "text": [
      "(86,) (285,)\n"
     ]
    },
    {
     "data": {
      "image/png": "[encoded data removed]",
      "text/plain": [
       "<Figure size 432x288 with 1 Axes>"
      ]
     },
     "metadata": {
      "needs_background": "light"
     },
     "output_type": "display_data"
    },
    {
     "data": {
      "image/png": "[encoded data removed]",
      "text/plain": [
       "<Figure size 432x288 with 1 Axes>"
      ]
     },
     "metadata": {
      "needs_background": "light"
     },
     "output_type": "display_data"
    },
    {
     "data": {
      "text/plain": [
       "'\\nmodel, train, test = do_Tree(features_train, labels_train, features_val, labels_val, param_d=Depths, param_m=2)\\nmodel.get_params()'"
      ]
     },
     "execution_count": 193,
     "metadata": {},
     "output_type": "execute_result"
    }
   ],
   "source": [
    "from sklearn.tree import DecisionTreeClassifier as Tree\n",
    "def do_Tree(x,y,xv,yv, param_d=None, param_m=2):\n",
    "    model= Tree()\n",
    "    #print(\"Param Max-D= \",param_d, 'Min-samples-S= ', param_m)\n",
    "    model.set_params(max_depth=param_d, min_samples_split=param_m) \n",
    "    model.fit(x,y)\n",
    "    train_acc = model.score(x,y)\n",
    "    test_acc = model.score(xv,yv)\n",
    "    return model, train_acc, test_acc\n",
    "Depths = np.arange(1, features_train.shape[1], 100) #choose steps\n",
    "SamplesS = np.arange(2, features_train.shape[0] , 10 ) #choose steps\n",
    "print(Depths.shape, SamplesS.shape)\n",
    "\n",
    "train_accuracy_by_depth = []\n",
    "test_accuracy_by_depth = []\n",
    "\n",
    "for depth in Depths:\n",
    "    model, train_acc, test_acc = do_Tree(features_train, labels_train, features_val, labels_val, param_d=depth)\n",
    "    train_accuracy_by_depth.append(train_acc)\n",
    "    test_accuracy_by_depth.append(test_acc)\n",
    "plt.plot(Depths, train_accuracy_by_depth, 'b', label='train')\n",
    "plt.plot(Depths, test_accuracy_by_depth, 'r', label='test')\n",
    "plt.legend()\n",
    "plt.xlabel('Depth')\n",
    "plt.ylabel('Accuracy')\n",
    "plt.show()\n",
    "\n",
    "train_accuracy_by_sample = []\n",
    "test_accuracy_by_sample = []\n",
    "\n",
    "for sample in SamplesS:\n",
    "    model, train_acc, test_acc = do_Tree(features_train, labels_train, features_val, labels_val, param_m=sample)\n",
    "    train_accuracy_by_sample.append(train_acc)\n",
    "    test_accuracy_by_sample.append(test_acc)\n",
    "plt.plot(SamplesS, train_accuracy_by_sample, 'b', label='train')\n",
    "plt.plot(SamplesS, test_accuracy_by_sample, 'r', label='test')\n",
    "plt.legend()\n",
    "plt.xlabel('Sample')\n",
    "plt.ylabel('Accuracy')\n",
    "plt.show()\n",
    "\n",
    "'''\n",
    "model, train, test = do_Tree(features_train, labels_train, features_val, labels_val, param_d=Depths, param_m=2)\n",
    "model.get_params()'''"
   ]
  },
  {
   "cell_type": "markdown",
   "metadata": {},
   "source": [
    "> j) Utilice una Red Neuronal Artificial (ANN) para intentar resolver el problema, como la que se señala a continuación (utilizando el framework de *keras*): entrenada por 25 iteraciones al dataset (*epochs*) con un tamaño de *batch* de 128 para las actualizaciones de los pesos, utilizando *SGD* con una tasa de aprendizaje $0.1$ sobre la función de pérdida binaria de clasificación. La arquitectura de la red contiene una capa de salida con una única neurona que indica la probabilidad de que el texto sea positivo, una capa escondida con número de neuronas $N_h$ y la capa de entrada implícita para $x$. Varíe el parámetro que corresponde al número de neuronas en la capa oculta $N_h$, en potencias de 2, y vuelva a realizar el gráfico de error con respecto al parámetro. Comente.\n",
    "```python\n",
    "from keras.models import Sequential\n",
    "from keras.layers import Dense\n",
    "from keras.optimizers import SGD\n",
    "def do_ANN(x,y, xv,yv, param):\n",
    "    print(\"Neuron hidden = \",param)\n",
    "    model = Sequential()\n",
    "    model.add(Dense(units=param, input_dim=x.shape[1], activation=\"sigmoid\"))\n",
    "    model.add(Dense(1, activation=\"sigmoid\"))\n",
    "    model.compile(optimizer=SGD(lr=0.1), loss=\"binary_crossentropy\", metrics=[\"accuracy\"])\n",
    "    model.fit(x, y, epochs=25, batch_size=128, verbose=0)\n",
    "    train_acc = model.evaluate(x,y, verbose=0)[1] #in position 0 is the loss\n",
    "    test_acc = model.evaluate(xv,yv, verbose=0)[1]\n",
    "    return model, train_acc, test_acc\n",
    "N_h = [2**i for i in range(1,10)]\n",
    "```"
   ]
  },
  {
   "cell_type": "code",
   "execution_count": 216,
   "metadata": {},
   "outputs": [
    {
     "name": "stdout",
     "output_type": "stream",
     "text": [
      "Neuron hidden =  2\n",
      "Neuron hidden =  4\n",
      "Neuron hidden =  8\n",
      "Neuron hidden =  16\n",
      "Neuron hidden =  32\n",
      "Neuron hidden =  64\n",
      "Neuron hidden =  128\n",
      "Neuron hidden =  256\n",
      "Neuron hidden =  512\n",
      "[0.861062228679657, 0.9106577634811401, 0.8965880870819092, 0.907843828201294, 0.8955329060554504, 0.8923672437667847, 0.8860358595848083, 0.8800562620162964, 0.882518470287323]\n",
      "[0.6722925305366516, 0.7018284201622009, 0.700421929359436, 0.7116736769676208, 0.6849507689476013, 0.6962025165557861, 0.6793248653411865, 0.6807313561439514, 0.6905766725540161]\n"
     ]
    },
    {
     "data": {
      "image/png": "[encoded data removed]",
      "text/plain": [
       "<Figure size 432x288 with 1 Axes>"
      ]
     },
     "metadata": {
      "needs_background": "light"
     },
     "output_type": "display_data"
    }
   ],
   "source": [
    "from keras.models import Sequential\n",
    "from keras.layers import Dense\n",
    "from keras.optimizers import SGD\n",
    "def do_ANN(x,y, xv,yv, param):\n",
    "    print(\"Neuron hidden = \",param)\n",
    "    model = Sequential()\n",
    "    model.add(Dense(units=param, input_dim=x.shape[1], activation=\"relu\"))\n",
    "    model.add(Dense(1, activation=\"sigmoid\"))\n",
    "    model.compile(optimizer=SGD(lr=0.1), loss=\"binary_crossentropy\", metrics=[\"accuracy\"])\n",
    "    model.fit(x, y, epochs=25, batch_size=128, verbose=0)\n",
    "    train_acc = model.evaluate(x,y, verbose=0)[1] #in position 0 is the loss\n",
    "    test_acc = model.evaluate(xv,yv, verbose=0)[1]\n",
    "    return model, train_acc, test_acc\n",
    "\n",
    "train_accuracy = []\n",
    "test_accuracy = []\n",
    "\n",
    "N_h = [2**i for i in range(1,10)]\n",
    "for n in N_h:\n",
    "    model, train_acc, test_acc = do_ANN(features_train, labels_train, features_val, labels_val, n)\n",
    "    train_accuracy.append(train_acc)\n",
    "    test_accuracy.append(test_acc)\n",
    "print(train_accuracy)\n",
    "print(test_accuracy)\n",
    "plt.plot(N_h, train_accuracy)\n",
    "plt.plot(N_h, test_accuracy)\n",
    "plt.show()"
   ]
  },
  {
   "cell_type": "markdown",
   "metadata": {},
   "source": [
    "> k) Ahora evalúe sobre el conjunto de pruebas el mejor modelo obtenido, seleccionado en base a la métrica de desempeño en el conjunto de validación. Comente sobre la calidad obtenida en el problema trabajado ¿Es un buen valor? ¿Cuál podría ser un valor de referencia?\n",
    "\n",
    "> l) Para comparar sus resultados utilice el modelo VADER (*Valence Aware Dictionary and sEntiment Reasoner*) [[6]](#refs), el cual entrega una *score* de predicción a nivel léxico (de palabras que comúnmente se asocian a una orientiación positiva o negativa). Este modelo construido manualmente no requiere entrenamiento, por lo que solo debe evaluar en conjunto de pruebas realizando predicciones del texto bruto (sin pre-procesamiento). Comente.\n",
    "```python\n",
    "from vaderSentiment.vaderSentiment import SentimentIntensityAnalyzer \n",
    "def vader_predict(sentences): \n",
    "    sid_obj = SentimentIntensityAnalyzer() \n",
    "    sent_v = []\n",
    "    for text in sentences:\n",
    "        sentiment_dict = sid_obj.polarity_scores(text) \n",
    "        if sentiment_dict[\"pos\"] > sentiment_dict[\"neg\"]: #based on scores\n",
    "            sent_v.append(1)\n",
    "        else:\n",
    "            sent_v.append(0)\n",
    "    return np.asarray(sent_v)\n",
    "vader_pred_test = vader_predict(df_test_text) \n",
    "from sklearn.metrics import accuracy_score\n",
    "accuracy_score(labels_test, vader_pred_test)\n",
    "```\n",
    ">> Para instalar VADER ejecute en consola:\n",
    "```\n",
    "pip install vaderSentiment\n",
    "```\n",
    "\n",
    "> m) Bajo la idea del modelo VADER realice un análisis de qué palabras su modelo tiende a considerar como positivas o negativas por si solas. Algunos de los modelos estudiados en esta sección realizan una predicción probabilista, utilice uno de éstos para verificar lo solicitado. Sobre la representación *TF* genere datos de entradas que contengan una sola palabra del vocabulario para evaluar que predicción les genera su modelo a esas palabras. Muestre las palabras más negativas y positivas en el vocabulario consideradas por su modelo. Comente.\n",
    "```python\n",
    "V = len(vocab)\n",
    "word_scores = np.zeros((V, 2))\n",
    "for i in range(V):\n",
    "    x_word = np.zeros((1, V))\n",
    "    x_word[:,i] = 1 # only the \"i\" word appeared\n",
    "    word_scores[i] = model.predict_proba(x_word)\n",
    "vocab\n",
    "```\n",
    "\n",
    "> n) Intente mejorar los resultados de otra manera. Varíe el pre-procesamiento realizado a los datos en c), por ejemplo eliminar símbolos, números o aplicar la técnica de *stemmming* [[7]](#refs) en lugar de *lemmatization* para llevar a su tronco léxico.\n",
    "```python\n",
    "from nltk.stem.porter import PorterStemmer\n",
    "wordstemmer = PorterStemmer()\n",
    "wordstemmer.stem(word)\n",
    "```\n",
    "\n",
    "> o) Varíe la representación utilizada actualmente por alguna otra que ayude a mejorar el desempeño, por ejemplo reducir el peso de una palabra si es que aparece en muchos textos: TF-IDF. Existen varias opciones que podría realizar para mejorar el desempeño, por ejemplo reducir el vocabulario a las $K$ palabras más frecuentes, eliminar las palabras menos frecuentes, normalizar la representación, utilizar *n-gramas*, entre otras.\n",
    "```python\n",
    "from sklearn.feature_extraction.text import TfidfVectorizer\n",
    "tfidf_model = TfidfVectorizer(binary=False, ngram_range=(1, 1), max_df=1.0, min_df=1, max_features=None, norm='l2', use_idf=True, sublinear_tf=False)\n",
    "tfidf_model.fit(texts_train)\n",
    "tfidf_model.transform(texts_train)\n",
    "... #for val and test\n",
    "```\n",
    "\n",
    "> p) Utilice métricas auxiliares para entender en qué falla su mejor modelo obtenido hasta el momento. ¿La información entregada indica cómo se podría mejorar o cual sería la causa de la falla?\n",
    "```python\n",
    "from sklearn.metrics import classification_report\n",
    "def score_the_model(model, x, y):\n",
    "    print(\"Detailed Analysis Testing Results ...\")\n",
    "    print(classification_report(y, model.predict(x), target_names=['-','+']))\n",
    "score_the_model(model, features_test, labels_test )\n",
    "```\n",
    "\n",
    "> q) Algo que se puede modificar en algunos modelos de aprendizaje es poner peso en cada una de las clases, por ejemplo si una clase es de mayor interés que las otras e interesa reducir más su error. En *sklearn* ésto puede ser realizado con el parámetro de *class_weights*. Por ejemplo, asigne que detectar los textos negativos me interesa 5 veces más que detectar los textos positivos. Comente.\n",
    "```python\n",
    "classes_weights = {0: 5, 1: 1} #or choose..\n",
    "model.set_params(class_weight=classes_weights)\n",
    "model.fit(features_train, labels_train)\n",
    "score_the_model(model, features_test, labels_test)\n",
    "```\n",
    "\n",
    "> r) Visualice la clasificación que realiza su mejor modelo sobre algunos textos de pruebas ¿Qué entega mas información, una predicción categórica o una continua? ¿Cuál podría ser el beneficio de una o de otra? Comente\n",
    "```python\n",
    "test_pred = log_model.predict_proba(features_test) #or \".predict\"\n",
    "spl = np.random.randint( 0, len(test_pred), size=15)\n",
    "for text, pred_s, true_s in zip(df_test_text[spl], test_pred[spl], labels_test[spl]):\n",
    "    print(\"True sent: \", true_s, \"-- Pred sent: \",pred_s)\n",
    "    print(\"Raw text: \", text)\n",
    "```\n",
    "\n",
    "> s) Comente sobre el desempeño obtenido por los diferentes modelos de aprendizaje utilizados al enfrentar el problema, ¿Dónde pareciera estar la mejora? ¿En la variación de los modelos y sus parámetros o en la modificación de la representación? ¿Cuál modelo de aprendizaje le parece mejor en base a su criterio? ya sea desempeño, tiempo de ejecución comodidad en las decisiones involucradas, etc."
   ]
  },
  {
   "cell_type": "markdown",
   "metadata": {},
   "source": [
    "<a id=\"segundo\"></a>\n",
    "## 2. Problema de Múltiples Anotaciones\n",
    "\n",
    "El aprendizaje supervisado visto en clases da cuenta que existe una única posible etiqueta $z$ (*ground truth*) asociada a un dato $x$ para poder aprender de los datos. Sin embargo, la definición del *ground truth* en algunos casos puede resultar bastante difícil de definir o bastante costoso, por ejemplo en problemas médicos donde se deben realizar invasivos exámenes para conocer la \"verdad absoluta\". Como alternativa se pueden recolectar múltiples anotaciones desde personas inexpertas en el área para poder estimar el *ground truth*. \n",
    "\n",
    "<img src=\"http://www.irishenvironment.com/wp-content/uploads/2013/11/crowdsourcing.jpg\" title=\"Title text\" width=\"40%\" />\n",
    "\n",
    "En esta actividad se trabajará en el caso en que contamos con múltiples anotaciones por cada dato de entrada $x_i$ dadas por personas inexpertas a través de Amazon Mechanical Turk (__[AMT](https://www.mturk.com/)__), es decir, $y^{(1)}, y^{(2)} \\ldots y^{(T_i)}$. El problema de predicción trabajado será el mismo de la actividad anterior, el análisis de sentimiento de un extracto de texto en Rotten Tomatoes. Los datos trabajados [[8]](#refs) pueden ser descargados de la página del autor.\n",
    "```\n",
    "wget http://fprodrigues.com//mturk-datasets.tar.gz\n",
    "```\n",
    "\n",
    "De esta manera trabajaremos con el archivo *mturk_answers.csv* en la carpeta *sentiment polarity* que se puede cargar con pandas. En este archivo se tendrán múltiples filas/registros por cada dato de entrenamiento, cada uno representando la etiqueta que entregó una persona (*worker*) a ese dato, los detalles de columnas son:\n",
    "* *WorkerId*: identificador de la persona que etiquetó/anotó el dato\n",
    "* *Input.id*: identificador del dato a etiquetar/anotar\n",
    "* *Input.original_sentence*: texto original del dato\n",
    "* *Input.stemmed_sent*: texto pre-procesado\n",
    "* *Input.true_sent*: sentimiento real (*ground truth*) del dato\n",
    "* *Answer.sent*:   etiqueta/anotación que entregó la persona\n",
    "\n",
    "```python\n",
    "import pandas as pd\n",
    "df = pd.read_csv(\"./sentiment_polarity/mturk_answers.csv\") \n",
    "```\n",
    "\n",
    "> El objetivo de la actividad será el de obtener un modelo predictor del *ground truth* sin entrenar directamente con esto, sino que utilizar las múltiples anotaciones de las personas\n",
    "\n",
    "### Importante\n",
    "* Deberá crear un conjunto aleatorio de pruebas que solo contenga los textos y el sentimiento *ground truth* (sin repeticiones)\n",
    "* Los valores de *ground truth* están **solo para evaluar**, no puede utilizarlos para entrenar o tomar decisiones en su modelo.\n",
    "* La métrica de evaluación será el *accuracy score*\n",
    "```python\n",
    "from sklearn.metrics import accuracy_score\n",
    "accuracy_score(y_true, y_pred)\n",
    "```\n",
    "\n",
    "#### Sugerencias\n",
    "Para representar los textos, a diferencia de lo visto en la sección 1, se puede utilizar lo que son la representación vectorial de palabras (*word vectors*), a través de modelos especializados entrenados para aprender una representación en que palabras similares estén cercanas en el espacio vectorial. Puede utilizar los vectores livianos de __[GLOVE](https://nlp.stanford.edu/projects/glove/)__ en su versión entradas en textos de Wikipedia con 6 billones de palabras/tokens.\n",
    "```python\n",
    "EMBEDDING_DIM = 300\n",
    "GLOVE_FILE = \"./glove.6B.%dd.txt\"%(EMBEDDING_DIM)\n",
    "embeddings_index = {}\n",
    "with open(GLOVE_FILE) as file:\n",
    "    for line in file:\n",
    "        values = line.split()\n",
    "        embeddings_index[values[0]] = np.asarray(values[1:], dtype='float32')\n",
    "...\n",
    "embeddings_index.get(word)\n",
    "```\n",
    "> Para descargar GLOVE\n",
    "```\n",
    "wget http://nlp.stanford.edu/data/glove.6B.zip\n",
    "```"
   ]
  },
  {
   "cell_type": "markdown",
   "metadata": {},
   "source": [
    "<a id=\"refs\"></a>\n",
    "## Referencias\n",
    "[1] Keras: Deep Learning library for Theano and TensorFlow. https://keras.io/  \n",
    "[2] https://www.kaggle.com/c/sentiment-analysis-on-movie-reviews  \n",
    "[3] https://en.wikipedia.org/wiki/Stopwords  \n",
    "[4] https://en.wikipedia.org/wiki/Lemmatisation  \n",
    "[5] Landauer, T. K., Foltz, P. W., & Laham, D. (1998). *An introduction to latent semantic analysis*. Discourse processes, 25(2-3), 259-284.  \n",
    "[6] https://github.com/cjhutto/vaderSentiment  \n",
    "[7] https://en.wikipedia.org/wiki/Stemming  \n",
    "[8] Rodrigues, F., Pereira, F., & Ribeiro, B. (2013). *Learning from multiple annotators: distinguishing good from random labelers*. Pattern Recognition Letters, 34(12), 1428-1436."
   ]
  }
 ],
 "metadata": {
  "kernelspec": {
   "display_name": "Python 3",
   "language": "python",
   "name": "python3"
  },
  "language_info": {
   "codemirror_mode": {
    "name": "ipython",
    "version": 3
   },
   "file_extension": ".py",
   "mimetype": "text/x-python",
   "name": "python",
   "nbconvert_exporter": "python",
   "pygments_lexer": "ipython3",
   "version": "3.7.3"
  }
 },
 "nbformat": 4,
 "nbformat_minor": 2
}
