{
 "cells": [
  {
   "cell_type": "markdown",
   "metadata": {},
   "source": [
    "<img src=\"http://www.exalumnos.usm.cl/wp-content/uploads/2015/06/Isotipo-Negro.gif\" title=\"Title text\" width=\"20%\" height=\"20%\" />\n",
    "\n",
    "\n",
    "<hr style=\"height:2px;border:none\"/>\n",
    "<h1 align='center'> INF-393 Máquinas de Aprendizaje II-2018 </h1>\n",
    "\n",
    "<H3 align='center'> Tarea 2 - Fronteras no Lineales </H3>\n",
    "<hr style=\"height:2px;border:none\"/>"
   ]
  },
  {
   "cell_type": "markdown",
   "metadata": {},
   "source": [
    "**Integrantes:**\n",
    "* Gabriel Astorga 201573591-3\n",
    "* Juan Pablo Castillo 201573534-4"
   ]
  },
  {
   "cell_type": "markdown",
   "metadata": {},
   "source": [
    "**Temas**  \n",
    "* similaridad: KNN\n",
    "* Selección de hı́per-parámetros estructurales en SVM, Arboles de Decisión, k-NN y Redes Neuronales.\n",
    "* Métodos de *kernel*.\n",
    "* Extracción de características.\n",
    "* Múltiples anotaciones\n",
    "\n",
    "** Formalidades **  \n",
    "* Equipos de trabajo de: 2 personas (*cada uno debe estar en condiciones de realizar una presentación y discutir sobre cada punto del trabajo realizado*)\n",
    "* Se debe preparar una presentación de 20 minutos. Presentador será elegido aleatoriamente.\n",
    "* Se debe preparar un (breve) Jupyter/IPython notebook que explique la actividad realizada y las conclusiones del trabajo\n",
    "* Fecha de discusión y entrega: 8 de Noviembre.\n",
    "* Formato de entrega: envı́o de link Github al correo electrónico del ayudante (*<francisco.mena.13@sansano.usm.cl>*) , incluyendo al profesor en copia (*<jnancu@inf.utfsm.cl>*). Por favor especificar el siguiente asunto: [Tarea2-INF393-II-2018]\n",
    "\n",
    "<hr style=\"height:2px;border:none\"/>\n",
    "\n",
    "### Paquetes de instalación\n",
    "\n",
    "Como es usual utilizaremos *numpy, scipy, matplotlib* y *sklearn*. Además de éstas se necesitará instalar **keras**, una librerı́a en python para prototipado rápido de modelos basados en redes neuronales, muy similar en espı́ritu a *sklearn*. La librerı́a puede usar *TensorFlow* o *Theano* como backend, siendo éstas las librerı́as más populares para desarrollar nuevos modelos de redes neuronales o implementar eficientemente modelos conocidos con fines prácticos. Para detalles sobre la instalación puede revisar [[1]](#refs) o escribir un email a su ayudante.\n",
    "\n",
    "\n",
    "\n",
    "La tarea se divide en secciones:\n",
    "\n",
    "[1.](#primero) Sentiment Analysis en Texto  \n",
    "[2.](#segundo) pendiente\n"
   ]
  },
  {
   "cell_type": "code",
   "execution_count": 1,
   "metadata": {},
   "outputs": [],
   "source": [
    "%matplotlib inline"
   ]
  },
  {
   "cell_type": "markdown",
   "metadata": {},
   "source": [
    "<a id=\"primero\"></a>\n",
    "## 1. Sentiment Analysis en Texto\n",
    "\n",
    "El análisis de emociones o sentimientos se refiere al proceso de extraer información acerca de la actitud\n",
    "que una persona (o grupo de ellas) manifiesta, en un determinado medio o formato digital, con respecto a un\n",
    "tópico o contexto de comunicación. Uno de los casos más estudiados corresponde a determinar la polaridad\n",
    "de un trozo de texto, es decir, clasificar una determinada evaluación escrita (*review*), en que una persona\n",
    "manifiesta una opinión, como *positiva*, *negativa* o *neutral*. Esto también ha sido extendido a otros medios, como lo es analizar la polaridad de textos en redes sociales.  La dificultad de este problema radica en el carácter altamente ambiguo e informal del lenguaje que utilizan naturalmente las personas ası́ como el manejo de negaciones, sarcasmo y abreviaciones en una frase.\n",
    "\n",
    "<img src=\"https://formtitanhelpdeskimage.s3.amazonaws.com/70c78f9df2fd5c130e7021644f78f4c5.jpg\" title=\"Title text\" width=\"40%\" />\n",
    "\n",
    "\n",
    "Los datos que usaremos para esta actividad corresponden a un subconjunto de los datos publicados en **Kaggle**,  en  el  contexto  de  una  competencia  organizada  por  la  Universidad  de  Stanford  [[2]](#refs).   Cada  registro disponible corresponderá a una opinión sobre una película, registrada sobre el sitio *Rotten Tomatoes*.  Para empezar  nos  limitaremos  a  estudiar  textos  anotados  como  positivos  o  negativos,  clases  que  codificaremos como +1 y 0 respectivamente."
   ]
  },
  {
   "cell_type": "code",
   "execution_count": 2,
   "metadata": {},
   "outputs": [
    {
     "data": {
      "text/plain": [
       "0       everything's serious , poetic , earnest and --...\n",
       "1       narratively , trouble every day is a plodding ...\n",
       "2       a truly wonderful tale combined with stunning ...\n",
       "3       jason patric and ray liotta make for one splen...\n",
       "4       haneke keeps us at arm's length . guided more ...\n",
       "5       richard pryor mined his personal horrors and c...\n",
       "6       puts on airs of a hal hartley wannabe film -- ...\n",
       "7       the characters are interesting and the relatio...\n",
       "8       this long and relentlessly saccharine film is ...\n",
       "9       the movie's progression into rambling incohere...\n",
       "10        as lively an account as seinfeld is deadpan .\\n\n",
       "11      a damn fine and a truly distinctive and a deep...\n",
       "12      [tries] to parody a genre that's already a jok...\n",
       "13      there are as many misses as hits , but ultimat...\n",
       "14           most of the action setups are incoherent .\\n\n",
       "15                          schindler's list it ain't .\\n\n",
       "16      it just goes to show , an intelligent person i...\n",
       "17      a bracing , unblinking work that serves as a p...\n",
       "18      cage makes an unusual but pleasantly haunting ...\n",
       "19                     adaptation is simply brilliant .\\n\n",
       "20      open-ended and composed of layer upon layer , ...\n",
       "21      a romantic comedy enriched by a sharp eye for ...\n",
       "22      . . . there is enough originality in 'life' to...\n",
       "23       ian holm conquers france as an earthy napoleon\\n\n",
       "24      this starts off with a 1950's doris day feel a...\n",
       "25      this is very much of a mixed bag , with enough...\n",
       "26      with amazing finesse , the film shadows heidi'...\n",
       "27      although it includes a fair share of dumb drug...\n",
       "28      a plodding look at the french revolution throu...\n",
       "29      the problem with all of this : it's not really...\n",
       "                              ...                        \n",
       "3524    the film's sharp , often mischievous sense of ...\n",
       "3525    [hell is] looking down at your watch and reali...\n",
       "3526    dolman confines himself to shtick and sentimen...\n",
       "3527    despite an impressive roster of stars and dire...\n",
       "3528    while it's nothing we haven't seen before from...\n",
       "3529    it's sweet , harmless , dumb , occasionally fu...\n",
       "3530    there are many things that solid acting can do...\n",
       "3531    it's immensely ambitious , different than anyt...\n",
       "3532    you would be better off investing in the worth...\n",
       "3533    a pleasant and engaging enough sit , but in tr...\n",
       "3534    this director's cut -- which adds 51 minutes -...\n",
       "3535    a sensitive , modest comic tragedy that works ...\n",
       "3536    it's hard to believe that something so short c...\n",
       "3537    when twentysomething hotsies make movies about...\n",
       "3538    ramsay succeeds primarily with her typical ble...\n",
       "3539    this is the kind of movie that used to be righ...\n",
       "3540    an irresistible combination of a rousing good ...\n",
       "3541                             been there done that .\\n\n",
       "3542    the master of disguise is funny--not \" ha ha \"...\n",
       "3543    nothing but one relentlessly depressing situat...\n",
       "3544    the film doesn't have enough innovation or piz...\n",
       "3545    even those who would like to dismiss the film ...\n",
       "3546    what could have been a daytime soap opera is a...\n",
       "3547    a dopey movie clothed in excess layers of hipn...\n",
       "3548    hope keeps arising that the movie will live up...\n",
       "3549    it takes a strange kind of laziness to waste t...\n",
       "3550    an easy watch , except for the annoying demean...\n",
       "3551    dog soldiers doesn't transcend genre -- it emb...\n",
       "3552    it uses the pain and violence of war as backgr...\n",
       "3553    victor rosa is leguizamo's best movie work so ...\n",
       "Name: Text, Length: 3554, dtype: object"
      ]
     },
     "execution_count": 2,
     "metadata": {},
     "output_type": "execute_result"
    }
   ],
   "source": [
    "import pandas as pd\n",
    "#Train Data\n",
    "ftr = open(\"train_data.csv\", \"r\",  encoding=\"ISO-8859-1\")\n",
    "rows = [line.split(\" \",1) for line in ftr.readlines()]\n",
    "df_train = pd.DataFrame(rows, columns=['Sentiment','Text'])\n",
    "df_train['Sentiment'] = (pd.to_numeric(df_train['Sentiment'])+1)/2 # 0 o 1\n",
    "fts = open(\"test_data.csv\", \"r\",  encoding=\"ISO-8859-1\")\n",
    "\n",
    "#Test Data\n",
    "fts = open(\"test_data.csv\", \"r\",  encoding=\"ISO-8859-1\")\n",
    "rows = [line.split(\" \",1) for line in fts.readlines()]\n",
    "df_test = pd.DataFrame(rows, columns=['Sentiment','Text'])\n",
    "df_test['Sentiment'] = (pd.to_numeric(df_test['Sentiment'])+1)/2 # 0 o 1\n",
    "\n",
    "#Texto Comentarios\n",
    "df_train_text = df_train.Text\n",
    "df_test_text = df_test.Text\n",
    "#Etiquetas\n",
    "labels_train = df_train.Sentiment.values\n",
    "labels_test = df_test.Sentiment.values\n",
    "\n",
    "df_train_text"
   ]
  },
  {
   "cell_type": "markdown",
   "metadata": {},
   "source": [
    "> a) Describa los datos trabajados, como la cantidad de datos en cada conjunto, largo de los textos, la cantidad de ejemplo por cada clase, o alguna otra forma que piense que pueda ser útil para comprender el problema trabajado."
   ]
  },
  {
   "cell_type": "code",
   "execution_count": 3,
   "metadata": {},
   "outputs": [
    {
     "name": "stdout",
     "output_type": "stream",
     "text": [
      "           Text\n",
      "Sentiment      \n",
      "0.0        1784\n",
      "1.0        1770\n"
     ]
    },
    {
     "data": {
      "image/png": "[encoded data removed]",
      "text/plain": [
       "<Figure size 432x288 with 1 Axes>"
      ]
     },
     "metadata": {
      "needs_background": "light"
     },
     "output_type": "display_data"
    }
   ],
   "source": [
    "import matplotlib.pyplot as plt\n",
    "\n",
    "coments_by_sentiment = df_train.groupby(['Sentiment']).count()\n",
    "print(coments_by_sentiment)\n",
    "plt.bar(['0','1'], coments_by_sentiment['Text'], 0.35)\n",
    "plt.xlabel('Etiquetas')\n",
    "plt.ylabel('Nº Comentarios')\n",
    "plt.show()"
   ]
  },
  {
   "cell_type": "code",
   "execution_count": 4,
   "metadata": {},
   "outputs": [
    {
     "name": "stdout",
     "output_type": "stream",
     "text": [
      "           Lenght Text\n",
      "Sentiment             \n",
      "0.0         114.723094\n",
      "1.0         114.690960\n"
     ]
    },
    {
     "data": {
      "image/png": "[encoded data removed]",
      "text/plain": [
       "<Figure size 432x288 with 1 Axes>"
      ]
     },
     "metadata": {
      "needs_background": "light"
     },
     "output_type": "display_data"
    }
   ],
   "source": [
    "df_train_len = pd.DataFrame()\n",
    "df_train_len['Sentiment'] = df_train['Sentiment']\n",
    "df_train_len['Lenght Text'] = df_train['Text'].str.len()\n",
    "\n",
    "lenght_by_sentiment = df_train_len.groupby(['Sentiment']).mean()\n",
    "print(lenght_by_sentiment)\n",
    "plt.bar(['0','1'], coments_by_sentiment['Text'], 0.35)\n",
    "plt.xlabel('Etiquetas')\n",
    "plt.ylabel('Largo Promedio')\n",
    "plt.show()"
   ]
  },
  {
   "cell_type": "markdown",
   "metadata": {},
   "source": [
    "> b) Construya un conjunto de validación desde el conjunto de entrenamiento para seleccionar modelos. Decida el tamaño dada la cantidad de ejemplos que se tienen para entrenamiento."
   ]
  },
  {
   "cell_type": "markdown",
   "metadata": {},
   "source": [
    "Utilzamos el 20% de los datos de entrenamiento para validacion"
   ]
  },
  {
   "cell_type": "code",
   "execution_count": 5,
   "metadata": {},
   "outputs": [
    {
     "name": "stdout",
     "output_type": "stream",
     "text": [
      "Size of original train set : 3554\n",
      "Size of new train set:  2843\n",
      "Size of validation set:  711\n"
     ]
    }
   ],
   "source": [
    "import math\n",
    "from sklearn.model_selection import train_test_split\n",
    "\n",
    "print('Size of original train set :', df_train.shape[0])\n",
    "\n",
    "#Se eligen el 20% de los datos de entrenamineto para validación\n",
    "size_test_set = math.ceil(df_train.shape[0]*0.20)\n",
    "df_train_text, df_val_text, labels_train, labels_val  = train_test_split(df_train_text, labels_train, test_size= size_test_set, random_state=0)\n",
    "\n",
    "print('Size of new train set: ', df_train_text.shape[0])\n",
    "print('Size of validation set: ', df_val_text.shape[0])"
   ]
  },
  {
   "cell_type": "markdown",
   "metadata": {},
   "source": [
    "> c) Realice un pre-procesamiento a los textos para normalizar un poco su estructura, para ello utilice el código de ejemplo a continuación, donde se pasa el texto a minúsculas (*lower-casing*), se reducen las mútliples letras, se eliminan palabras sin significados como artículos, pronombres y preposiciones (*stop word removal* [[3]](#refs)), además de pasar las palabras a su tronco léxico con la técnica de *lemmatizer* [[4]](#refs). Comente la importancia de un correcto pre-procesamiento en el domino de lenguaje natural."
   ]
  },
  {
   "cell_type": "markdown",
   "metadata": {},
   "source": [
    "Un correcto pre-procesamiento de los textos ayudara a consolidar el modelo a proponer, es decir, ayuda a quitar aquellas palabras que no expresan o no dan información sobre el contenido del texto, a estas palabras se les conoce como stop words y es sumamente importante sacarlas del modelo puesto que estas agregan complejidad innecesaria al problema, ademas pasar las palabras a su origen léxico tambien es importante puesto que se podrian tener palabras que en diferentes tiempos verbales pero significan lo mismo, pero para el modelo o máquina serian distintas, esto añade redundancia de atributos si es que no se consideran como la misma palabra. "
   ]
  },
  {
   "cell_type": "code",
   "execution_count": 63,
   "metadata": {},
   "outputs": [],
   "source": [
    "import re, time\n",
    "import nltk\n",
    "from nltk.corpus import stopwords\n",
    "from nltk import WordNetLemmatizer, word_tokenize\n",
    "from cucco import Cucco\n",
    "\n",
    "def base_word(word):\n",
    "    wordlemmatizer = WordNetLemmatizer()\n",
    "    return wordlemmatizer.lemmatize(word) \n",
    "def word_extractor(text):\n",
    "    commonwords = stopwords.words('english')\n",
    "    text = re.sub(r'([a-z])\\1+', r'\\1\\1',text) #substitute multiple letter by two\n",
    "    words = \"\"\n",
    "    wordtokens = [ base_word(word.lower()) for word in word_tokenize(text) ]\n",
    "    for word in wordtokens:\n",
    "        if word not in commonwords: #and (len(word) > 3): #delete stopwords\n",
    "            words+=\" \"+word\n",
    "    return words\n",
    "\n",
    "texts_train = [word_extractor(text) for text in df_train_text]\n",
    "texts_val = [word_extractor(text) for text in df_val_text]\n",
    "texts_test = [word_extractor(text) for text in df_test_text]"
   ]
  },
  {
   "cell_type": "markdown",
   "metadata": {},
   "source": [
    "> d) Construya una representación vectorial a los textos de entrada para poder ser manejados y clasificados por los modelos de aprendizaje. Para ésto utilice el tipo de característica más común, que consiste en contar cuántas veces aparece cada términos/palabras en el texto, denominado **TF** (*term-frequency*). Para esto, se necesita contar con un vocabulario base, el cual se construirá a través de la unión de todas las palabras que observemos en los textos de entrenamiento ¿Cuáles son las palabras más frecuentes?"
   ]
  },
  {
   "cell_type": "code",
   "execution_count": 7,
   "metadata": {},
   "outputs": [
    {
     "data": {
      "text/html": [
       "<div>\n",
       "<style scoped>\n",
       "    .dataframe tbody tr th:only-of-type {\n",
       "        vertical-align: middle;\n",
       "    }\n",
       "\n",
       "    .dataframe tbody tr th {\n",
       "        vertical-align: top;\n",
       "    }\n",
       "\n",
       "    .dataframe thead th {\n",
       "        text-align: right;\n",
       "    }\n",
       "</style>\n",
       "<table border=\"1\" class=\"dataframe\">\n",
       "  <thead>\n",
       "    <tr style=\"text-align: right;\">\n",
       "      <th></th>\n",
       "      <th>word</th>\n",
       "      <th>#</th>\n",
       "    </tr>\n",
       "  </thead>\n",
       "  <tbody>\n",
       "    <tr>\n",
       "      <th>2894</th>\n",
       "      <td>film</td>\n",
       "      <td>468</td>\n",
       "    </tr>\n",
       "    <tr>\n",
       "      <th>4954</th>\n",
       "      <td>movie</td>\n",
       "      <td>399</td>\n",
       "    </tr>\n",
       "    <tr>\n",
       "      <th>5245</th>\n",
       "      <td>one</td>\n",
       "      <td>208</td>\n",
       "    </tr>\n",
       "    <tr>\n",
       "      <th>3422</th>\n",
       "      <td>ha</td>\n",
       "      <td>200</td>\n",
       "    </tr>\n",
       "    <tr>\n",
       "      <th>4434</th>\n",
       "      <td>like</td>\n",
       "      <td>192</td>\n",
       "    </tr>\n",
       "    <tr>\n",
       "      <th>4607</th>\n",
       "      <td>make</td>\n",
       "      <td>156</td>\n",
       "    </tr>\n",
       "    <tr>\n",
       "      <th>7200</th>\n",
       "      <td>story</td>\n",
       "      <td>143</td>\n",
       "    </tr>\n",
       "    <tr>\n",
       "      <th>1200</th>\n",
       "      <td>character</td>\n",
       "      <td>136</td>\n",
       "    </tr>\n",
       "    <tr>\n",
       "      <th>2603</th>\n",
       "      <td>even</td>\n",
       "      <td>119</td>\n",
       "    </tr>\n",
       "    <tr>\n",
       "      <th>7649</th>\n",
       "      <td>time</td>\n",
       "      <td>118</td>\n",
       "    </tr>\n",
       "    <tr>\n",
       "      <th>3283</th>\n",
       "      <td>good</td>\n",
       "      <td>113</td>\n",
       "    </tr>\n",
       "    <tr>\n",
       "      <th>1428</th>\n",
       "      <td>comedy</td>\n",
       "      <td>111</td>\n",
       "    </tr>\n",
       "    <tr>\n",
       "      <th>8269</th>\n",
       "      <td>way</td>\n",
       "      <td>102</td>\n",
       "    </tr>\n",
       "    <tr>\n",
       "      <th>8442</th>\n",
       "      <td>work</td>\n",
       "      <td>101</td>\n",
       "    </tr>\n",
       "    <tr>\n",
       "      <th>2183</th>\n",
       "      <td>doe</td>\n",
       "      <td>101</td>\n",
       "    </tr>\n",
       "    <tr>\n",
       "      <th>4965</th>\n",
       "      <td>much</td>\n",
       "      <td>98</td>\n",
       "    </tr>\n",
       "    <tr>\n",
       "      <th>5502</th>\n",
       "      <td>performance</td>\n",
       "      <td>97</td>\n",
       "    </tr>\n",
       "    <tr>\n",
       "      <th>8307</th>\n",
       "      <td>well</td>\n",
       "      <td>95</td>\n",
       "    </tr>\n",
       "    <tr>\n",
       "      <th>4476</th>\n",
       "      <td>little</td>\n",
       "      <td>89</td>\n",
       "    </tr>\n",
       "    <tr>\n",
       "      <th>3136</th>\n",
       "      <td>funny</td>\n",
       "      <td>89</td>\n",
       "    </tr>\n",
       "    <tr>\n",
       "      <th>2078</th>\n",
       "      <td>director</td>\n",
       "      <td>88</td>\n",
       "    </tr>\n",
       "    <tr>\n",
       "      <th>3222</th>\n",
       "      <td>get</td>\n",
       "      <td>83</td>\n",
       "    </tr>\n",
       "    <tr>\n",
       "      <th>4415</th>\n",
       "      <td>life</td>\n",
       "      <td>80</td>\n",
       "    </tr>\n",
       "    <tr>\n",
       "      <th>2507</th>\n",
       "      <td>enough</td>\n",
       "      <td>78</td>\n",
       "    </tr>\n",
       "    <tr>\n",
       "      <th>4508</th>\n",
       "      <td>look</td>\n",
       "      <td>78</td>\n",
       "    </tr>\n",
       "    <tr>\n",
       "      <th>5076</th>\n",
       "      <td>never</td>\n",
       "      <td>77</td>\n",
       "    </tr>\n",
       "    <tr>\n",
       "      <th>744</th>\n",
       "      <td>best</td>\n",
       "      <td>76</td>\n",
       "    </tr>\n",
       "    <tr>\n",
       "      <th>8202</th>\n",
       "      <td>wa</td>\n",
       "      <td>75</td>\n",
       "    </tr>\n",
       "    <tr>\n",
       "      <th>2844</th>\n",
       "      <td>feel</td>\n",
       "      <td>75</td>\n",
       "    </tr>\n",
       "    <tr>\n",
       "      <th>606</th>\n",
       "      <td>bad</td>\n",
       "      <td>70</td>\n",
       "    </tr>\n",
       "    <tr>\n",
       "      <th>7452</th>\n",
       "      <td>take</td>\n",
       "      <td>69</td>\n",
       "    </tr>\n",
       "    <tr>\n",
       "      <th>7591</th>\n",
       "      <td>thing</td>\n",
       "      <td>68</td>\n",
       "    </tr>\n",
       "    <tr>\n",
       "      <th>1637</th>\n",
       "      <td>could</td>\n",
       "      <td>64</td>\n",
       "    </tr>\n",
       "    <tr>\n",
       "      <th>8460</th>\n",
       "      <td>would</td>\n",
       "      <td>63</td>\n",
       "    </tr>\n",
       "    <tr>\n",
       "      <th>8498</th>\n",
       "      <td>year</td>\n",
       "      <td>62</td>\n",
       "    </tr>\n",
       "    <tr>\n",
       "      <th>4579</th>\n",
       "      <td>made</td>\n",
       "      <td>61</td>\n",
       "    </tr>\n",
       "    <tr>\n",
       "      <th>542</th>\n",
       "      <td>audience</td>\n",
       "      <td>60</td>\n",
       "    </tr>\n",
       "    <tr>\n",
       "      <th>4712</th>\n",
       "      <td>may</td>\n",
       "      <td>59</td>\n",
       "    </tr>\n",
       "    <tr>\n",
       "      <th>4846</th>\n",
       "      <td>minute</td>\n",
       "      <td>59</td>\n",
       "    </tr>\n",
       "    <tr>\n",
       "      <th>5141</th>\n",
       "      <td>nothing</td>\n",
       "      <td>59</td>\n",
       "    </tr>\n",
       "    <tr>\n",
       "      <th>3127</th>\n",
       "      <td>fun</td>\n",
       "      <td>58</td>\n",
       "    </tr>\n",
       "    <tr>\n",
       "      <th>2609</th>\n",
       "      <td>every</td>\n",
       "      <td>57</td>\n",
       "    </tr>\n",
       "    <tr>\n",
       "      <th>4504</th>\n",
       "      <td>long</td>\n",
       "      <td>56</td>\n",
       "    </tr>\n",
       "    <tr>\n",
       "      <th>8406</th>\n",
       "      <td>without</td>\n",
       "      <td>55</td>\n",
       "    </tr>\n",
       "    <tr>\n",
       "      <th>6061</th>\n",
       "      <td>really</td>\n",
       "      <td>53</td>\n",
       "    </tr>\n",
       "    <tr>\n",
       "      <th>6600</th>\n",
       "      <td>see</td>\n",
       "      <td>53</td>\n",
       "    </tr>\n",
       "    <tr>\n",
       "      <th>5639</th>\n",
       "      <td>plot</td>\n",
       "      <td>53</td>\n",
       "    </tr>\n",
       "    <tr>\n",
       "      <th>1425</th>\n",
       "      <td>come</td>\n",
       "      <td>52</td>\n",
       "    </tr>\n",
       "    <tr>\n",
       "      <th>6969</th>\n",
       "      <td>something</td>\n",
       "      <td>51</td>\n",
       "    </tr>\n",
       "    <tr>\n",
       "      <th>2244</th>\n",
       "      <td>drama</td>\n",
       "      <td>51</td>\n",
       "    </tr>\n",
       "  </tbody>\n",
       "</table>\n",
       "</div>"
      ],
      "text/plain": [
       "             word    #\n",
       "2894         film  468\n",
       "4954        movie  399\n",
       "5245          one  208\n",
       "3422           ha  200\n",
       "4434         like  192\n",
       "4607         make  156\n",
       "7200        story  143\n",
       "1200    character  136\n",
       "2603         even  119\n",
       "7649         time  118\n",
       "3283         good  113\n",
       "1428       comedy  111\n",
       "8269          way  102\n",
       "8442         work  101\n",
       "2183          doe  101\n",
       "4965         much   98\n",
       "5502  performance   97\n",
       "8307         well   95\n",
       "4476       little   89\n",
       "3136        funny   89\n",
       "2078     director   88\n",
       "3222          get   83\n",
       "4415         life   80\n",
       "2507       enough   78\n",
       "4508         look   78\n",
       "5076        never   77\n",
       "744          best   76\n",
       "8202           wa   75\n",
       "2844         feel   75\n",
       "606           bad   70\n",
       "7452         take   69\n",
       "7591        thing   68\n",
       "1637        could   64\n",
       "8460        would   63\n",
       "8498         year   62\n",
       "4579         made   61\n",
       "542      audience   60\n",
       "4712          may   59\n",
       "4846       minute   59\n",
       "5141      nothing   59\n",
       "3127          fun   58\n",
       "2609        every   57\n",
       "4504         long   56\n",
       "8406      without   55\n",
       "6061       really   53\n",
       "6600          see   53\n",
       "5639         plot   53\n",
       "1425         come   52\n",
       "6969    something   51\n",
       "2244        drama   51"
      ]
     },
     "execution_count": 7,
     "metadata": {},
     "output_type": "execute_result"
    }
   ],
   "source": [
    "import numpy as np\n",
    "from sklearn.feature_extraction.text import CountVectorizer\n",
    "import matplotlib.pyplot as plt\n",
    "\n",
    "vectorizer= CountVectorizer(ngram_range=(1, 1), binary=False) #TF representation\n",
    "\n",
    "vectorizer.fit(texts_train)\n",
    "\n",
    "#Matriz dispersa con texto x terminos, con nº de ocurrencias\n",
    "features_train = vectorizer.transform(texts_train)\n",
    "features_val = vectorizer.transform(texts_val)\n",
    "features_test = vectorizer.transform(texts_test)\n",
    "\n",
    "#Vocabulario\n",
    "vocab = vectorizer.get_feature_names()\n",
    "\n",
    "dist_train =list(np.array(features_train.sum(axis=0)).reshape(-1,))\n",
    "dist_val = list(np.array(features_val.sum(axis=0)).reshape(-1,))\n",
    "dist_test = list(np.array(features_test.sum(axis=0)).reshape(-1,))\n",
    "df_dist = pd.DataFrame({'word':vocab, '#': dist_train}).sort_values(by='#', ascending=False)\n",
    "df_dist.head(50)"
   ]
  },
  {
   "cell_type": "markdown",
   "metadata": {},
   "source": [
    "Como se observa las palabras más repetidas en los comentarios son aquellas relacionadas al contexto de las películas, además de palabras que denotan sentimentalidad como lo son 'good', 'well', 'bad' entre otras. Es decir no hay nada fuera de lo comun en las palabras más repetidas que no se preveerian dentro de este contexto."
   ]
  },
  {
   "cell_type": "markdown",
   "metadata": {},
   "source": [
    "> e) Para tener una visión distinta y entender mejor la representación vectorial realizada, visualice los datos en un plano 2D. Para ésto utilice la técnica **LSA** (*Latent Semantic Analysis*) [[5]](#refs) que a diferencia de PCA, **no centra** los datos antes de realizar la descomposicipon SVD, de ésta manera podrá visualizar el espacio semántico de \"conceptos\" latentes usados en la representación. Coloree cada texto en base a su clase ¿Qué indica lo observado? Comente e interprete los resultados"
   ]
  },
  {
   "cell_type": "code",
   "execution_count": 8,
   "metadata": {
    "scrolled": true
   },
   "outputs": [
    {
     "name": "stdout",
     "output_type": "stream",
     "text": [
      "(2843, 2)\n"
     ]
    },
    {
     "data": {
      "image/png": "[encoded data removed]",
      "text/plain": [
       "<Figure size 720x360 with 1 Axes>"
      ]
     },
     "metadata": {
      "needs_background": "light"
     },
     "output_type": "display_data"
    }
   ],
   "source": [
    "from sklearn.decomposition import TruncatedSVD\n",
    "model = TruncatedSVD(n_components=2)\n",
    "model.fit(features_train)\n",
    "x_plot = model.transform(features_train)\n",
    "print(x_plot.shape)\n",
    "plt.figure(figsize=(10,5))\n",
    "plt.scatter(x_plot[:,0], x_plot[:,1], c=labels_train)\n",
    "plt.show()"
   ]
  },
  {
   "cell_type": "markdown",
   "metadata": {},
   "source": [
    "Se observan almenos 6 agrupaciones de textos(comentarios), que tendrian relación entre si. Sin embargo estas agrupaciones no se observan que tenga alguna relación la etiqueta de \"sentimentalidad\" del comentario, es decir, si es positivo o negativo, por que se puede decir desde la reducción de dimensionalidad de LSA es que de acuerdo a TF los comentarios son similares si utilizan terminos similares, por lo que no necesariamente comentarios positivos tendran terminos similares, lo mismo ocurre con los comentarios negativos. Por lo tanto como se observa que comentarios positivos y negativos se tienden a agrupar en un mismo \"grupo\", esto se deveria que estos hablan de la misma pelicula o generos similares de esta, en este sentido si se tienden a repetir terminos como lo son los personajes o titulos de las películas."
   ]
  },
  {
   "cell_type": "markdown",
   "metadata": {},
   "source": [
    "> f) Entrene un modelo de Regresión Logística Regularizado (utilizando como penalizador la norma $l_2$). Varíe el parámetro de regularización $C$, en potencias de 10, midiendo el error de predicción obtenido sobre los datos de entrenamiento y validación, construya un gráfico que muestre la variación de ambos errores respecto al parámetro $C$. Explique el significado y valor esperado del parámetro de regularización."
   ]
  },
  {
   "cell_type": "code",
   "execution_count": 64,
   "metadata": {
    "scrolled": true
   },
   "outputs": [
    {
     "data": {
      "image/png": "[encoded data removed]",
      "text/plain": [
       "<Figure size 432x288 with 1 Axes>"
      ]
     },
     "metadata": {
      "needs_background": "light"
     },
     "output_type": "display_data"
    },
    {
     "data": {
      "text/html": [
       "<div>\n",
       "<style scoped>\n",
       "    .dataframe tbody tr th:only-of-type {\n",
       "        vertical-align: middle;\n",
       "    }\n",
       "\n",
       "    .dataframe tbody tr th {\n",
       "        vertical-align: top;\n",
       "    }\n",
       "\n",
       "    .dataframe thead th {\n",
       "        text-align: right;\n",
       "    }\n",
       "</style>\n",
       "<table border=\"1\" class=\"dataframe\">\n",
       "  <thead>\n",
       "    <tr style=\"text-align: right;\">\n",
       "      <th></th>\n",
       "      <th>Cs</th>\n",
       "      <th>Train_acc</th>\n",
       "      <th>Val_acc</th>\n",
       "    </tr>\n",
       "  </thead>\n",
       "  <tbody>\n",
       "    <tr>\n",
       "      <th>0</th>\n",
       "      <td>0.0001</td>\n",
       "      <td>0.760113</td>\n",
       "      <td>0.646976</td>\n",
       "    </tr>\n",
       "    <tr>\n",
       "      <th>1</th>\n",
       "      <td>0.0010</td>\n",
       "      <td>0.765037</td>\n",
       "      <td>0.646976</td>\n",
       "    </tr>\n",
       "    <tr>\n",
       "      <th>2</th>\n",
       "      <td>0.0100</td>\n",
       "      <td>0.791418</td>\n",
       "      <td>0.663854</td>\n",
       "    </tr>\n",
       "    <tr>\n",
       "      <th>3</th>\n",
       "      <td>0.1000</td>\n",
       "      <td>0.901864</td>\n",
       "      <td>0.693390</td>\n",
       "    </tr>\n",
       "    <tr>\n",
       "      <th>4</th>\n",
       "      <td>1.0000</td>\n",
       "      <td>0.991206</td>\n",
       "      <td>0.711674</td>\n",
       "    </tr>\n",
       "    <tr>\n",
       "      <th>5</th>\n",
       "      <td>10.0000</td>\n",
       "      <td>1.000000</td>\n",
       "      <td>0.708861</td>\n",
       "    </tr>\n",
       "    <tr>\n",
       "      <th>6</th>\n",
       "      <td>100.0000</td>\n",
       "      <td>1.000000</td>\n",
       "      <td>0.699015</td>\n",
       "    </tr>\n",
       "    <tr>\n",
       "      <th>7</th>\n",
       "      <td>1000.0000</td>\n",
       "      <td>1.000000</td>\n",
       "      <td>0.696203</td>\n",
       "    </tr>\n",
       "  </tbody>\n",
       "</table>\n",
       "</div>"
      ],
      "text/plain": [
       "          Cs  Train_acc   Val_acc\n",
       "0     0.0001   0.760113  0.646976\n",
       "1     0.0010   0.765037  0.646976\n",
       "2     0.0100   0.791418  0.663854\n",
       "3     0.1000   0.901864  0.693390\n",
       "4     1.0000   0.991206  0.711674\n",
       "5    10.0000   1.000000  0.708861\n",
       "6   100.0000   1.000000  0.699015\n",
       "7  1000.0000   1.000000  0.696203"
      ]
     },
     "execution_count": 64,
     "metadata": {},
     "output_type": "execute_result"
    }
   ],
   "source": [
    "from sklearn.linear_model import LogisticRegression\n",
    "\n",
    "def do_LOGIT(x,y,xv,yv, param):\n",
    "    #print(\"Param C= \",param)\n",
    "    model= LogisticRegression()\n",
    "    model.set_params(penalty='l2',C=param)\n",
    "    model.fit(x,y)\n",
    "    train_acc = model.score(x,y)\n",
    "    test_acc = model.score(xv,yv)\n",
    "    return model, train_acc, test_acc\n",
    "\n",
    "Cs = [10**i for i in np.arange(-4,4, dtype = float)]\n",
    "\n",
    "def plt_LOGIT(x, y, xv, yv, Cs):\n",
    "    train_accuracy = []\n",
    "    test_accuracy = []\n",
    "    for c in Cs:   \n",
    "        model, train_acc, test_acc = do_LOGIT(x,y,xv,yv, param=c)\n",
    "        train_accuracy.append(train_acc)\n",
    "        test_accuracy.append(test_acc)\n",
    "    plt.plot(Cs, train_accuracy, label='train')\n",
    "    plt.plot(Cs, test_accuracy, label='val')\n",
    "    plt.legend()\n",
    "    plt.xlabel('C')\n",
    "    plt.ylabel('Accuracy')\n",
    "    plt.xscale('log')\n",
    "    plt.show()\n",
    "    return(pd.DataFrame({'Cs': Cs, 'Train_acc':train_accuracy, 'Val_acc':test_accuracy}))\n",
    "plt_LOGIT(features_train, labels_train, features_val, labels_val, Cs)"
   ]
  },
  {
   "cell_type": "markdown",
   "metadata": {},
   "source": [
    "Existe Overfiting(sobreajuste)..."
   ]
  },
  {
   "cell_type": "markdown",
   "metadata": {},
   "source": [
    "> g) Entrene una Máquina de Soporte Vectorial (SVM) con distintos kernels. Similar a lo anterior, construya un gráfico que muestre la variación de ambos errores respecto al parámetro de regularización $C$ para cada tipo de kernel que experimente. Explique el significado y valor esperado de los parámetros en este modelo."
   ]
  },
  {
   "cell_type": "code",
   "execution_count": 65,
   "metadata": {},
   "outputs": [
    {
     "name": "stdout",
     "output_type": "stream",
     "text": [
      "2.0 2.0\n"
     ]
    },
    {
     "data": {
      "image/png": "[encoded data removed]",
      "text/plain": [
       "<Figure size 864x576 with 4 Axes>"
      ]
     },
     "metadata": {
      "needs_background": "light"
     },
     "output_type": "display_data"
    }
   ],
   "source": [
    "from sklearn.svm import SVC as SVM #SVC is for classification\n",
    "def do_SVM(x,y,xv,yv, param, kernel='linear'):\n",
    "    #print(\"Param C= \", param, 'Kernel= ', kernel)\n",
    "    model= SVM(gamma='auto')\n",
    "    model.set_params(C=param,kernel=kernel) #try rbf and linear at least\n",
    "    model.fit(x,y)\n",
    "    train_acc = model.score(x,y)\n",
    "    test_acc = model.score(xv,yv)\n",
    "    return model, train_acc, test_acc\n",
    "Cs = [10**i for i in np.arange(-4,4,dtype=float)]\n",
    "\n",
    "kernels = ['linear', 'poly', 'rbf', 'sigmoid']\n",
    "\n",
    "def mul_kernels_SVM(x, y, xv, yv, Cs, kernels, do_SVM):\n",
    "    print(len(kernels)/2, len(kernels)/2)\n",
    "    fig, axs = plt.subplots(int(len(kernels)/2), int(len(kernels)/2), \n",
    "                            sharex='col', sharey='row', \n",
    "                            gridspec_kw={'hspace': 0.2, 'wspace': 0},\n",
    "                            figsize=(12,8)\n",
    "                           )\n",
    "    dfs_acc = []\n",
    "    for i, kernel in enumerate(kernels):\n",
    "        train_accuracy = []\n",
    "        test_accuracy = []\n",
    "        for c in Cs:\n",
    "            model, train_acc, test_acc = do_SVM(x, y, xv, yv, param=c, kernel=kernel)\n",
    "            train_accuracy.append(train_acc)\n",
    "            test_accuracy.append(test_acc)\n",
    "        df = pd.DataFrame()\n",
    "        df['C'] = Cs\n",
    "        df['Train_acc'] = train_accuracy\n",
    "        df['Val_acc'] = test_accuracy\n",
    "        dfs_acc.append(df)\n",
    "        axs[int(i/2), i%2].plot(Cs, train_accuracy, 'b', label='train')\n",
    "        axs[int(i/2), i%2].plot(Cs, test_accuracy, 'r',label='validation')\n",
    "        axs[int(i/2), i%2].set_title(kernel)\n",
    "        axs[int(i/2), i%2].legend()\n",
    "    for ax in axs.flat:\n",
    "        ax.set(xlabel='C', ylabel='Accuracy', xscale='log')\n",
    "    for ax in axs.flat:\n",
    "        ax.label_outer()\n",
    "    plt.legend()\n",
    "    plt.show()\n",
    "    return dfs_acc\n",
    "        \n",
    "accs = mul_kernels_SVM(features_train, labels_train, features_val, labels_val, Cs=Cs, kernels=kernels, do_SVM=do_SVM)"
   ]
  },
  {
   "cell_type": "code",
   "execution_count": 66,
   "metadata": {},
   "outputs": [
    {
     "data": {
      "text/html": [
       "<div>\n",
       "<style scoped>\n",
       "    .dataframe tbody tr th:only-of-type {\n",
       "        vertical-align: middle;\n",
       "    }\n",
       "\n",
       "    .dataframe tbody tr th {\n",
       "        vertical-align: top;\n",
       "    }\n",
       "\n",
       "    .dataframe thead th {\n",
       "        text-align: right;\n",
       "    }\n",
       "</style>\n",
       "<table border=\"1\" class=\"dataframe\">\n",
       "  <thead>\n",
       "    <tr style=\"text-align: right;\">\n",
       "      <th></th>\n",
       "      <th>C</th>\n",
       "      <th>Train_acc</th>\n",
       "      <th>Val_acc</th>\n",
       "    </tr>\n",
       "  </thead>\n",
       "  <tbody>\n",
       "    <tr>\n",
       "      <th>0</th>\n",
       "      <td>0.0001</td>\n",
       "      <td>0.500176</td>\n",
       "      <td>0.509142</td>\n",
       "    </tr>\n",
       "    <tr>\n",
       "      <th>1</th>\n",
       "      <td>0.0010</td>\n",
       "      <td>0.500176</td>\n",
       "      <td>0.509142</td>\n",
       "    </tr>\n",
       "    <tr>\n",
       "      <th>2</th>\n",
       "      <td>0.0100</td>\n",
       "      <td>0.500176</td>\n",
       "      <td>0.509142</td>\n",
       "    </tr>\n",
       "    <tr>\n",
       "      <th>3</th>\n",
       "      <td>0.1000</td>\n",
       "      <td>0.500176</td>\n",
       "      <td>0.509142</td>\n",
       "    </tr>\n",
       "    <tr>\n",
       "      <th>4</th>\n",
       "      <td>1.0000</td>\n",
       "      <td>0.500176</td>\n",
       "      <td>0.509142</td>\n",
       "    </tr>\n",
       "    <tr>\n",
       "      <th>5</th>\n",
       "      <td>10.0000</td>\n",
       "      <td>0.500176</td>\n",
       "      <td>0.509142</td>\n",
       "    </tr>\n",
       "    <tr>\n",
       "      <th>6</th>\n",
       "      <td>100.0000</td>\n",
       "      <td>0.761520</td>\n",
       "      <td>0.637131</td>\n",
       "    </tr>\n",
       "    <tr>\n",
       "      <th>7</th>\n",
       "      <td>1000.0000</td>\n",
       "      <td>0.956736</td>\n",
       "      <td>0.701828</td>\n",
       "    </tr>\n",
       "  </tbody>\n",
       "</table>\n",
       "</div>"
      ],
      "text/plain": [
       "           C  Train_acc   Val_acc\n",
       "0     0.0001   0.500176  0.509142\n",
       "1     0.0010   0.500176  0.509142\n",
       "2     0.0100   0.500176  0.509142\n",
       "3     0.1000   0.500176  0.509142\n",
       "4     1.0000   0.500176  0.509142\n",
       "5    10.0000   0.500176  0.509142\n",
       "6   100.0000   0.761520  0.637131\n",
       "7  1000.0000   0.956736  0.701828"
      ]
     },
     "execution_count": 66,
     "metadata": {},
     "output_type": "execute_result"
    }
   ],
   "source": [
    "accs[3]#Kernel Sigmoidal"
   ]
  },
  {
   "cell_type": "markdown",
   "metadata": {},
   "source": [
    "> h) Utilice el algoritmo de similaridad k-NN para intentar resolver el problema. Varíe el parámetro de los vecinos $k$ en un rango que estime conveniente y realice graficos de errores como en las preguntas anteriores. Comente sobre el valor esperado de este parámetro."
   ]
  },
  {
   "cell_type": "code",
   "execution_count": 67,
   "metadata": {},
   "outputs": [
    {
     "data": {
      "image/png": "[encoded data removed]",
      "text/plain": [
       "<Figure size 432x288 with 1 Axes>"
      ]
     },
     "metadata": {
      "needs_background": "light"
     },
     "output_type": "display_data"
    },
    {
     "name": "stdout",
     "output_type": "stream",
     "text": [
      "      Ks  Train_acc   Val_acc\n",
      "0      1   1.000000  0.589311\n",
      "1    101   0.613437  0.565401\n",
      "2    201   0.598663  0.544304\n",
      "3    301   0.600774  0.530239\n",
      "4    401   0.626099  0.537271\n",
      "5    501   0.560675  0.545710\n",
      "6    601   0.516356  0.493671\n",
      "7    701   0.540978  0.510549\n",
      "8    801   0.519522  0.486639\n",
      "9    901   0.523039  0.503516\n",
      "10  1001   0.513190  0.495077\n",
      "11  1101   0.509321  0.489451\n",
      "12  1201   0.505100  0.495077\n",
      "13  1301   0.502638  0.495077\n",
      "14  1401   0.502638  0.496484\n",
      "15  1501   0.502286  0.495077\n",
      "16  1601   0.504045  0.502110\n",
      "17  1701   0.506155  0.499297\n",
      "18  1801   0.505452  0.495077\n",
      "19  1901   0.505100  0.497890\n",
      "20  2001   0.500176  0.490858\n",
      "21  2101   0.505804  0.495077\n",
      "22  2201   0.528667  0.526020\n",
      "23  2301   0.530777  0.516174\n",
      "24  2401   0.542737  0.549930\n",
      "25  2501   0.532888  0.514768\n",
      "26  2601   0.550827  0.544304\n",
      "27  2701   0.556806  0.556962\n",
      "28  2801   0.501231  0.504923\n"
     ]
    }
   ],
   "source": [
    "from sklearn.neighbors import KNeighborsClassifier\n",
    "def do_KNN(x,y,xv,yv, param):\n",
    "    model = KNeighborsClassifier()\n",
    "    #print(\"Param K= \",param)\n",
    "    model.set_params(n_neighbors=param)\n",
    "    model.fit(x,y)\n",
    "    train_acc = model.score(x,y)\n",
    "    test_acc = model.score(xv,yv)\n",
    "    return model, train_acc, test_acc\n",
    "\n",
    "Ks = np.arange(1, features_train.shape[0], 100)\n",
    "\n",
    "train_accuracy = []\n",
    "test_accuracy = []\n",
    "\n",
    "for k in Ks:\n",
    "    model, train_acc, test_acc = do_KNN(features_train, labels_train, features_val, labels_val, k)\n",
    "    train_accuracy.append(train_acc)\n",
    "    test_accuracy.append(test_acc)\n",
    "\n",
    "plt.plot(Ks, train_accuracy, 'b', label='train')\n",
    "plt.plot(Ks, test_accuracy, 'r', label='validation')\n",
    "plt.xlabel('K')\n",
    "plt.ylabel('Accuracy')\n",
    "plt.legend()\n",
    "plt.show()\n",
    "print(pd.DataFrame({'Ks': Ks, 'Train_acc': train_accuracy, 'Val_acc':test_accuracy}))"
   ]
  },
  {
   "cell_type": "markdown",
   "metadata": {},
   "source": [
    "> i) Entrene un Arbol de Decisión para resolver el problema. Varíe los parámetros de *max depth* y *min samples split* de manera separada, constuyendo gráficos de error respecto a estos parámetros. *Los valores que se presentan son sugerencias, no es necesario utilizar los mismos*. Comente sobre la diferencia entre la selección de estos dos parámetros."
   ]
  },
  {
   "cell_type": "code",
   "execution_count": 68,
   "metadata": {
    "scrolled": true
   },
   "outputs": [
    {
     "data": {
      "image/png": "[encoded data removed]",
      "text/plain": [
       "<Figure size 432x288 with 1 Axes>"
      ]
     },
     "metadata": {
      "needs_background": "light"
     },
     "output_type": "display_data"
    },
    {
     "data": {
      "image/png": "[encoded data removed]",
      "text/plain": [
       "<Figure size 432x288 with 1 Axes>"
      ]
     },
     "metadata": {
      "needs_background": "light"
     },
     "output_type": "display_data"
    }
   ],
   "source": [
    "from sklearn.tree import DecisionTreeClassifier as Tree\n",
    "def do_Tree(x,y,xv,yv, param_d=None, param_m=2):\n",
    "    model= Tree()\n",
    "    #print(\"Param Max-D= \",param_d, 'Min-samples-S= ', param_m)\n",
    "    model.set_params(max_depth=param_d, min_samples_split=param_m) \n",
    "    model.fit(x,y)\n",
    "    train_acc = model.score(x,y)\n",
    "    test_acc = model.score(xv,yv)\n",
    "    return model, train_acc, test_acc\n",
    "Depths = np.arange(1, features_train.shape[1], 100) #choose steps\n",
    "SamplesS = np.arange(2, features_train.shape[0] , 10 ) #choose steps\n",
    "\n",
    "train_accuracy_by_depth = []\n",
    "test_accuracy_by_depth = []\n",
    "\n",
    "for depth in Depths:\n",
    "    model, train_acc, test_acc = do_Tree(features_train, labels_train, features_val, labels_val, param_d=depth)\n",
    "    train_accuracy_by_depth.append(train_acc)\n",
    "    test_accuracy_by_depth.append(test_acc)\n",
    "plt.plot(Depths, train_accuracy_by_depth, 'b', label='train')\n",
    "plt.plot(Depths, test_accuracy_by_depth, 'r', label='validation')\n",
    "plt.legend()\n",
    "plt.xlabel('Depth')\n",
    "plt.ylabel('Accuracy')\n",
    "plt.show()\n",
    "\n",
    "train_accuracy_by_sample = []\n",
    "test_accuracy_by_sample = []\n",
    "\n",
    "for sample in SamplesS:\n",
    "    model, train_acc, test_acc = do_Tree(features_train, labels_train, features_val, labels_val, param_m=sample)\n",
    "    train_accuracy_by_sample.append(train_acc)\n",
    "    test_accuracy_by_sample.append(test_acc)\n",
    "plt.plot(SamplesS, train_accuracy_by_sample, 'b', label='train')\n",
    "plt.plot(SamplesS, test_accuracy_by_sample, 'r', label='validation')\n",
    "plt.legend()\n",
    "plt.xlabel('Sample')\n",
    "plt.ylabel('Accuracy')\n",
    "plt.show()"
   ]
  },
  {
   "cell_type": "markdown",
   "metadata": {},
   "source": [
    "> j) Utilice una Red Neuronal Artificial (ANN) para intentar resolver el problema, como la que se señala a continuación (utilizando el framework de *keras*): entrenada por 25 iteraciones al dataset (*epochs*) con un tamaño de *batch* de 128 para las actualizaciones de los pesos, utilizando *SGD* con una tasa de aprendizaje $0.1$ sobre la función de pérdida binaria de clasificación. La arquitectura de la red contiene una capa de salida con una única neurona que indica la probabilidad de que el texto sea positivo, una capa escondida con número de neuronas $N_h$ y la capa de entrada implícita para $x$. Varíe el parámetro que corresponde al número de neuronas en la capa oculta $N_h$, en potencias de 2, y vuelva a realizar el gráfico de error con respecto al parámetro. Comente."
   ]
  },
  {
   "cell_type": "code",
   "execution_count": 69,
   "metadata": {},
   "outputs": [
    {
     "data": {
      "image/png": "[encoded data removed]",
      "text/plain": [
       "<Figure size 432x288 with 1 Axes>"
      ]
     },
     "metadata": {
      "needs_background": "light"
     },
     "output_type": "display_data"
    },
    {
     "data": {
      "text/html": [
       "<div>\n",
       "<style scoped>\n",
       "    .dataframe tbody tr th:only-of-type {\n",
       "        vertical-align: middle;\n",
       "    }\n",
       "\n",
       "    .dataframe tbody tr th {\n",
       "        vertical-align: top;\n",
       "    }\n",
       "\n",
       "    .dataframe thead th {\n",
       "        text-align: right;\n",
       "    }\n",
       "</style>\n",
       "<table border=\"1\" class=\"dataframe\">\n",
       "  <thead>\n",
       "    <tr style=\"text-align: right;\">\n",
       "      <th></th>\n",
       "      <th>Nh</th>\n",
       "      <th>Train_acc</th>\n",
       "      <th>Val_acc</th>\n",
       "    </tr>\n",
       "  </thead>\n",
       "  <tbody>\n",
       "    <tr>\n",
       "      <th>0</th>\n",
       "      <td>2</td>\n",
       "      <td>0.743932</td>\n",
       "      <td>0.641350</td>\n",
       "    </tr>\n",
       "    <tr>\n",
       "      <th>1</th>\n",
       "      <td>4</td>\n",
       "      <td>0.872670</td>\n",
       "      <td>0.684951</td>\n",
       "    </tr>\n",
       "    <tr>\n",
       "      <th>2</th>\n",
       "      <td>8</td>\n",
       "      <td>0.905733</td>\n",
       "      <td>0.703235</td>\n",
       "    </tr>\n",
       "    <tr>\n",
       "      <th>3</th>\n",
       "      <td>16</td>\n",
       "      <td>0.880408</td>\n",
       "      <td>0.690577</td>\n",
       "    </tr>\n",
       "    <tr>\n",
       "      <th>4</th>\n",
       "      <td>32</td>\n",
       "      <td>0.890257</td>\n",
       "      <td>0.693390</td>\n",
       "    </tr>\n",
       "    <tr>\n",
       "      <th>5</th>\n",
       "      <td>64</td>\n",
       "      <td>0.884981</td>\n",
       "      <td>0.708861</td>\n",
       "    </tr>\n",
       "    <tr>\n",
       "      <th>6</th>\n",
       "      <td>128</td>\n",
       "      <td>0.886388</td>\n",
       "      <td>0.694796</td>\n",
       "    </tr>\n",
       "    <tr>\n",
       "      <th>7</th>\n",
       "      <td>256</td>\n",
       "      <td>0.879705</td>\n",
       "      <td>0.679325</td>\n",
       "    </tr>\n",
       "    <tr>\n",
       "      <th>8</th>\n",
       "      <td>512</td>\n",
       "      <td>0.878298</td>\n",
       "      <td>0.687764</td>\n",
       "    </tr>\n",
       "  </tbody>\n",
       "</table>\n",
       "</div>"
      ],
      "text/plain": [
       "    Nh  Train_acc   Val_acc\n",
       "0    2   0.743932  0.641350\n",
       "1    4   0.872670  0.684951\n",
       "2    8   0.905733  0.703235\n",
       "3   16   0.880408  0.690577\n",
       "4   32   0.890257  0.693390\n",
       "5   64   0.884981  0.708861\n",
       "6  128   0.886388  0.694796\n",
       "7  256   0.879705  0.679325\n",
       "8  512   0.878298  0.687764"
      ]
     },
     "execution_count": 69,
     "metadata": {},
     "output_type": "execute_result"
    }
   ],
   "source": [
    "from keras.models import Sequential\n",
    "from keras.layers import Dense\n",
    "from keras.optimizers import SGD\n",
    "def do_ANN(x,y, xv,yv, param, act_hidden='linear'):\n",
    "    #print(\"Neuron hidden = \",param)\n",
    "    model = Sequential()\n",
    "    model.add(Dense(units=param, input_dim=x.shape[1], activation=act_hidden))\n",
    "    model.add(Dense(1, activation=\"sigmoid\"))\n",
    "    model.compile(optimizer=SGD(lr=0.1), loss=\"binary_crossentropy\", metrics=[\"accuracy\"])\n",
    "    model.fit(x, y, epochs=25, batch_size=128, verbose=0)\n",
    "    train_acc = model.evaluate(x,y, verbose=0)[1] #in position 0 is the loss\n",
    "    test_acc = model.evaluate(xv,yv, verbose=0)[1]\n",
    "    return model, train_acc, test_acc\n",
    "\n",
    "def plt_ANN(x, y, xv, yv, range_nh, act_hidden='linear'):\n",
    "    train_accuracy = []\n",
    "    test_accuracy = []\n",
    "    for n in range_nh:\n",
    "        model, train_acc, test_acc = do_ANN(x, y, xv, yv, n, act_hidden=act_hidden)\n",
    "        train_accuracy.append(train_acc)\n",
    "        test_accuracy.append(test_acc)\n",
    "    plt.plot(range_nh, train_accuracy, 'b',label='train')\n",
    "    plt.plot(range_nh, test_accuracy, 'r',label='validation')\n",
    "    plt.xlabel('Nh')\n",
    "    plt.ylabel('Accuracy')\n",
    "    plt.legend()\n",
    "    plt.show()\n",
    "    return pd.DataFrame({'Nh':range_nh, 'Train_acc': train_accuracy, 'Val_acc': test_accuracy})\n",
    "\n",
    "N_h = [2**i for i in range(1,10)]\n",
    "plt_ANN(features_train, labels_train, features_val, labels_val, N_h, act_hidden='relu')"
   ]
  },
  {
   "cell_type": "markdown",
   "metadata": {},
   "source": [
    "De acuerdo al gráfico se observa que accuracy del modelo tiene su máximo con 2 neuronas en la capa oculta para el conjunto de entrenamiento, sin embargo con 8 neuronas se observa una disminución en el error de predicción del conjunto de validación, sin embargo este es casi insignificante (una mejora menor al $1\\%$). Por otro lado se observa que despues de 128 neuronas ocultas el modelo \"desaprende\" sin embargo luego en la curva se logra observar que el modelo comienza nuevamente a aprender, sin embargo a un ritmo muy lento en comparación al crecimiento de potencias de 2 de la cantidad de neuronas en la capa oculta. Por lo tanto el modelo de 1 capa con $N_h$ cantidad de neuronas no supera el $70\\%$ de accuracy y se podria decir que el problema es dificil de resolver con más precisión sin agregar más capas ocultas a la red neuronal propuesta."
   ]
  },
  {
   "cell_type": "markdown",
   "metadata": {},
   "source": [
    "> k) Ahora evalúe sobre el conjunto de pruebas el mejor modelo obtenido, seleccionado en base a la métrica de desempeño en el conjunto de validación. Comente sobre la calidad obtenida en el problema trabajado ¿Es un buen valor? ¿Cuál podría ser un valor de referencia?"
   ]
  },
  {
   "cell_type": "markdown",
   "metadata": {},
   "source": [
    "De acuerdo a la métrica de desempeño del conjunto de validación, el mejor modelo obtenido es el regresor logistico con parámetro de regularización C = 1, con un accuracy $\\approx 71\\%$ en el conjunto de validación. Sin embargo la red neuronal con 1 capa escondida con aproximadamente 8 neuronas y función de activación relu para la capa escondida alcanza $\\approx 70\\%$, además el error de predicción de una SVM con kernel sigmoidal y $C = 1000$ esta practicamente igualada con la red neuronal, incluso con un menor error de entrenamiento.Cual podria ser un valor de referencia .."
   ]
  },
  {
   "cell_type": "markdown",
   "metadata": {},
   "source": [
    "**Regresor Logistico**"
   ]
  },
  {
   "cell_type": "code",
   "execution_count": 32,
   "metadata": {},
   "outputs": [
    {
     "name": "stderr",
     "output_type": "stream",
     "text": [
      "c:\\users\\castillo\\appdata\\local\\programs\\python\\python37\\lib\\site-packages\\sklearn\\linear_model\\logistic.py:433: FutureWarning: Default solver will be changed to 'lbfgs' in 0.22. Specify a solver to silence this warning.\n",
      "  FutureWarning)\n"
     ]
    },
    {
     "data": {
      "text/plain": [
       "0.7146876758581879"
      ]
     },
     "execution_count": 32,
     "metadata": {},
     "output_type": "execute_result"
    }
   ],
   "source": [
    "model_log,_,_ = do_LOGIT(features_train, labels_train, features_val , labels_val, 1)\n",
    "model_log.score(features_test, labels_test)"
   ]
  },
  {
   "cell_type": "markdown",
   "metadata": {},
   "source": [
    "**Red Neuronal**"
   ]
  },
  {
   "cell_type": "code",
   "execution_count": 33,
   "metadata": {},
   "outputs": [
    {
     "data": {
      "text/plain": [
       "0.693584680557251"
      ]
     },
     "execution_count": 33,
     "metadata": {},
     "output_type": "execute_result"
    }
   ],
   "source": [
    "model_ann,_,_ = do_ANN(features_train, labels_train, features_val, labels_val, 8, act_hidden='relu')\n",
    "model_ann.evaluate(features_test, labels_test, verbose=0)[1]"
   ]
  },
  {
   "cell_type": "markdown",
   "metadata": {},
   "source": [
    "**SVM**"
   ]
  },
  {
   "cell_type": "code",
   "execution_count": 34,
   "metadata": {},
   "outputs": [
    {
     "data": {
      "text/plain": [
       "0.7045582442318514"
      ]
     },
     "execution_count": 34,
     "metadata": {},
     "output_type": "execute_result"
    }
   ],
   "source": [
    "model_svm,_,_ = do_SVM(features_train, labels_train, features_val, labels_val, param=1000, kernel='linear')\n",
    "model_svm.score(features_test, labels_test)"
   ]
  },
  {
   "cell_type": "markdown",
   "metadata": {},
   "source": [
    "Como se observa, como los tres modelos tienen un error de predicción parecidos en el conjunto de validación, y por tanto estos tambien lo hacen en el conjunto de test."
   ]
  },
  {
   "cell_type": "markdown",
   "metadata": {},
   "source": [
    "> l) Para comparar sus resultados utilice el modelo VADER (*Valence Aware Dictionary and sEntiment Reasoner*) [[6]](#refs), el cual entrega una *score* de predicción a nivel léxico (de palabras que comúnmente se asocian a una orientiación positiva o negativa). Este modelo construido manualmente no requiere entrenamiento, por lo que solo debe evaluar en conjunto de pruebas realizando predicciones del texto bruto (sin pre-procesamiento). Comente."
   ]
  },
  {
   "cell_type": "code",
   "execution_count": 35,
   "metadata": {},
   "outputs": [
    {
     "data": {
      "text/plain": [
       "0.6359032076533483"
      ]
     },
     "execution_count": 35,
     "metadata": {},
     "output_type": "execute_result"
    }
   ],
   "source": [
    "from vaderSentiment.vaderSentiment import SentimentIntensityAnalyzer \n",
    "def vader_predict(sentences): \n",
    "    sid_obj = SentimentIntensityAnalyzer() \n",
    "    sent_v = []\n",
    "    for text in sentences:\n",
    "        sentiment_dict = sid_obj.polarity_scores(text) \n",
    "        if sentiment_dict[\"pos\"] > sentiment_dict[\"neg\"]: #based on scores\n",
    "            sent_v.append(1)\n",
    "        else:\n",
    "            sent_v.append(0)\n",
    "    return np.asarray(sent_v)\n",
    "vader_pred_test = vader_predict(df_test_text) \n",
    "from sklearn.metrics import accuracy_score\n",
    "accuracy_score(labels_test, vader_pred_test)"
   ]
  },
  {
   "cell_type": "markdown",
   "metadata": {},
   "source": [
    "Se observa que vader entrega un pero accuracy que los métodos enunciados anteriormente, quizas esto se debe al poco o nula información que tiene vader del contexto de los textos, en cambio los métodos anteriores como fueron entrenados con conjuntos de ejemplos sacados del mismo contexto, puede predecir de \"mejor\" forma si es positivo o negativo. Sin embargo tampoco se queda muy atras a los metodos propuestos, esto denota que los modelos anteriores se pueden mejorar entregandole a los modelos información sobre aquellas palabras que se asocian a texto negativo."
   ]
  },
  {
   "cell_type": "markdown",
   "metadata": {},
   "source": [
    "> m) Bajo la idea del modelo VADER realice un análisis de qué palabras su modelo tiende a considerar como positivas o negativas por si solas. Algunos de los modelos estudiados en esta sección realizan una predicción probabilista, utilice uno de éstos para verificar lo solicitado. Sobre la representación *TF* genere datos de entradas que contengan una sola palabra del vocabulario para evaluar que predicción les genera su modelo a esas palabras. Muestre las palabras más negativas y positivas en el vocabulario consideradas por su modelo. Comente."
   ]
  },
  {
   "cell_type": "code",
   "execution_count": 47,
   "metadata": {},
   "outputs": [],
   "source": [
    "V = len(vocab)\n",
    "word_scores = np.zeros((V, 2))\n",
    "\n",
    "#Neural network \n",
    "model, train_acc, test_acc = do_ANN(features_train, labels_train, features_val, labels_val, 8)\n",
    "\n",
    "pw = []\n",
    "nw = [] \n",
    "\n",
    "for i in range(V):\n",
    "    x_word = np.zeros((1, V))\n",
    "    x_word[:,i] = 1 # only the \"i\" word appeared\n",
    "    word_score = model.predict_proba(x_word)\n",
    "    word_scores[i] = model.predict_proba(x_word)\n",
    "    if word_score > 0.7:\n",
    "        pw.append([vocab[i], word_score[0,0]])\n",
    "    elif word_score < 0.3:\n",
    "        nw.append([vocab[i], word_score[0,0]])\n",
    "pw = np.array(pw)\n",
    "nw = np.array(nw)\n",
    "\n",
    "positive_words = pd.DataFrame()\n",
    "negative_words = pd.DataFrame()\n",
    "positive_words['Word'] = pw[:,0]\n",
    "positive_words['Score'] = pw[:,1]\n",
    "\n",
    "negative_words['Word'] = nw[:,0]\n",
    "negative_words['Score'] = nw[:,1]"
   ]
  },
  {
   "cell_type": "code",
   "execution_count": 48,
   "metadata": {},
   "outputs": [
    {
     "name": "stdout",
     "output_type": "stream",
     "text": [
      "          Word       Score\n",
      "0          fun  0.71362525\n",
      "1        heart  0.72385365\n",
      "2         life  0.71016914\n",
      "3       moving  0.72154284\n",
      "4  performance  0.71150273\n",
      "5        world   0.7839118\n"
     ]
    }
   ],
   "source": [
    "#Palabras Positivas\n",
    "print(positive_words)"
   ]
  },
  {
   "cell_type": "markdown",
   "metadata": {},
   "source": [
    "Sorprende que no aparezca la palabra good, ademas se obtiene como muy positiva la palabra world, life y performance, las cuales no denotan por si mismas positividad de un comentario o texto."
   ]
  },
  {
   "cell_type": "code",
   "execution_count": 49,
   "metadata": {},
   "outputs": [
    {
     "name": "stdout",
     "output_type": "stream",
     "text": [
      "         Word       Score\n",
      "0         bad  0.17082241\n",
      "1      boring  0.27575138\n",
      "2      cliche  0.24905172\n",
      "3        dull  0.24348153\n",
      "4        feel  0.24557234\n",
      "5       heavy  0.28859863\n",
      "6      really   0.2588428\n",
      "7       silly  0.25967628\n",
      "8       title   0.2904814\n",
      "9  ultimately  0.26805496\n"
     ]
    }
   ],
   "source": [
    "#Palabras Negativas\n",
    "print(negative_words)"
   ]
  },
  {
   "cell_type": "markdown",
   "metadata": {},
   "source": [
    "En cambio en las palabras negativas si parece coincidir con lo que normalmente uno consideraria un comentario negativo, con la aparición de la palabra bad , fails , boring entre otras, sin embargo aparecen algunas que se podrian cuestionar, como lo son tv, ultimately. Esto puede ser a la coincidencia de la utilización de estas palabras en los comentarios negativos, es por esto quizas que el modelo necesita una mayor cantidad de ejemplos para entrenarse y no cometer este tipo de errores de clasificación."
   ]
  },
  {
   "cell_type": "markdown",
   "metadata": {},
   "source": [
    "> n) Intente mejorar los resultados de otra manera. Varíe el pre-procesamiento realizado a los datos en c), por ejemplo eliminar símbolos, números o aplicar la técnica de *stemmming* [[7]](#refs) en lugar de *lemmatization* para llevar a su tronco léxico."
   ]
  },
  {
   "cell_type": "code",
   "execution_count": 50,
   "metadata": {
    "scrolled": false
   },
   "outputs": [
    {
     "name": "stdout",
     "output_type": "stream",
     "text": [
      "(2843, 6671)\n"
     ]
    }
   ],
   "source": [
    "import re, time\n",
    "from nltk.corpus import stopwords\n",
    "from nltk import WordNetLemmatizer, word_tokenize\n",
    "from nltk.stem.porter import PorterStemmer\n",
    "from cucco import Cucco \n",
    "\n",
    "\n",
    "\n",
    "def get_common_words(texts, n=100):\n",
    "    all_documents = ''\n",
    "    for t in texts:\n",
    "        all_documents += ' ' + t\n",
    "        \n",
    "    wordtokens = word_tokenize(all_documents)\n",
    "    fDist = nltk.FreqDist(wordtokens)\n",
    "    most_freq_words = fDist.most_common(n)\n",
    "    n_common_words = []\n",
    "    for word, freq in most_freq_words:\n",
    "        n_common_words.append(word)\n",
    "    return n_common_words\n",
    "\n",
    "def base_word(word, type='Lemmatizer'):\n",
    "    if type == 'Lemmatizer':\n",
    "        wordlemmatizer = WordNetLemmatizer()\n",
    "        return wordlemmatizer.lemmatize(word)\n",
    "    else:\n",
    "        wordstemmer = PorterStemmer()\n",
    "        return wordstemmer.stem(word)\n",
    "    \n",
    "def word_extractor(text, common_words = [], type='Lemmatizer'):\n",
    "    commonwords = stopwords.words('english')\n",
    "    text = re.sub(r'([a-z])\\1+', r'\\1\\1',text) #substitute multiple letter by two\n",
    "    text = re.sub(r'\\d+', '', text)# Se eliminan los digitos (números)\n",
    "    words = \"\"\n",
    "    wordtokens = [ base_word(word.lower(), type='Lemmatizer') if type == 'Lemmatizer' else base_word(word.lower(), type='Stemming') for word in word_tokenize(text) ]\n",
    "    common = False\n",
    "    if common_words == []:\n",
    "        common = True\n",
    "    for word in wordtokens:\n",
    "        if (word not in commonwords) and (len(word)>3) and (common or word in common_words): #delete stopwords\n",
    "            words+=\" \"+word\n",
    "    return words\n",
    "\n",
    "texts_train_stemming = [word_extractor(text, type='Stemming') for text in df_train_text]\n",
    "texts_val_stemming = [word_extractor(text, type='Stemming') for text in df_val_text]\n",
    "texts_test_stemming = [word_extractor(text, type='Stemming') for text in df_test_text]\n",
    "\n",
    "\n",
    "vectorizer= CountVectorizer(ngram_range=(1, 1), binary=False) #TF representation\n",
    "\n",
    "vectorizer.fit(texts_train_stemming)\n",
    "\n",
    "#Matriz dispersa con textoXterminos, con nº de ocurrencias\n",
    "f_train_stemming = vectorizer.transform(texts_train_stemming)\n",
    "f_val_stemming = vectorizer.transform(texts_val_stemming)\n",
    "f_test_stemming = vectorizer.transform(texts_test_stemming)\n",
    "\n",
    "vocab_stemming = vectorizer.get_feature_names()\n",
    "\n",
    "print(f_train_stemming.shape)\n"
   ]
  },
  {
   "cell_type": "code",
   "execution_count": 70,
   "metadata": {},
   "outputs": [
    {
     "data": {
      "image/png": "[encoded data removed]",
      "text/plain": [
       "<Figure size 432x288 with 1 Axes>"
      ]
     },
     "metadata": {
      "needs_background": "light"
     },
     "output_type": "display_data"
    },
    {
     "data": {
      "text/html": [
       "<div>\n",
       "<style scoped>\n",
       "    .dataframe tbody tr th:only-of-type {\n",
       "        vertical-align: middle;\n",
       "    }\n",
       "\n",
       "    .dataframe tbody tr th {\n",
       "        vertical-align: top;\n",
       "    }\n",
       "\n",
       "    .dataframe thead th {\n",
       "        text-align: right;\n",
       "    }\n",
       "</style>\n",
       "<table border=\"1\" class=\"dataframe\">\n",
       "  <thead>\n",
       "    <tr style=\"text-align: right;\">\n",
       "      <th></th>\n",
       "      <th>Nh</th>\n",
       "      <th>Train_acc</th>\n",
       "      <th>Val_acc</th>\n",
       "    </tr>\n",
       "  </thead>\n",
       "  <tbody>\n",
       "    <tr>\n",
       "      <th>0</th>\n",
       "      <td>2</td>\n",
       "      <td>0.875484</td>\n",
       "      <td>0.676512</td>\n",
       "    </tr>\n",
       "    <tr>\n",
       "      <th>1</th>\n",
       "      <td>4</td>\n",
       "      <td>0.867042</td>\n",
       "      <td>0.693390</td>\n",
       "    </tr>\n",
       "    <tr>\n",
       "      <th>2</th>\n",
       "      <td>8</td>\n",
       "      <td>0.897643</td>\n",
       "      <td>0.676512</td>\n",
       "    </tr>\n",
       "    <tr>\n",
       "      <th>3</th>\n",
       "      <td>16</td>\n",
       "      <td>0.861414</td>\n",
       "      <td>0.691983</td>\n",
       "    </tr>\n",
       "    <tr>\n",
       "      <th>4</th>\n",
       "      <td>32</td>\n",
       "      <td>0.870911</td>\n",
       "      <td>0.686357</td>\n",
       "    </tr>\n",
       "    <tr>\n",
       "      <th>5</th>\n",
       "      <td>64</td>\n",
       "      <td>0.868449</td>\n",
       "      <td>0.686357</td>\n",
       "    </tr>\n",
       "    <tr>\n",
       "      <th>6</th>\n",
       "      <td>128</td>\n",
       "      <td>0.865987</td>\n",
       "      <td>0.684951</td>\n",
       "    </tr>\n",
       "    <tr>\n",
       "      <th>7</th>\n",
       "      <td>256</td>\n",
       "      <td>0.868097</td>\n",
       "      <td>0.687764</td>\n",
       "    </tr>\n",
       "    <tr>\n",
       "      <th>8</th>\n",
       "      <td>512</td>\n",
       "      <td>0.856138</td>\n",
       "      <td>0.687764</td>\n",
       "    </tr>\n",
       "  </tbody>\n",
       "</table>\n",
       "</div>"
      ],
      "text/plain": [
       "    Nh  Train_acc   Val_acc\n",
       "0    2   0.875484  0.676512\n",
       "1    4   0.867042  0.693390\n",
       "2    8   0.897643  0.676512\n",
       "3   16   0.861414  0.691983\n",
       "4   32   0.870911  0.686357\n",
       "5   64   0.868449  0.686357\n",
       "6  128   0.865987  0.684951\n",
       "7  256   0.868097  0.687764\n",
       "8  512   0.856138  0.687764"
      ]
     },
     "execution_count": 70,
     "metadata": {},
     "output_type": "execute_result"
    }
   ],
   "source": [
    "N_h = [ 2**i for i in range(1,10)]\n",
    "plt_ANN(f_train_stemming, labels_train, f_val_stemming, labels_val, N_h, act_hidden='relu')"
   ]
  },
  {
   "cell_type": "code",
   "execution_count": 71,
   "metadata": {},
   "outputs": [
    {
     "name": "stderr",
     "output_type": "stream",
     "text": [
      "c:\\users\\castillo\\appdata\\local\\programs\\python\\python37\\lib\\site-packages\\sklearn\\linear_model\\logistic.py:433: FutureWarning: Default solver will be changed to 'lbfgs' in 0.22. Specify a solver to silence this warning.\n",
      "  FutureWarning)\n"
     ]
    },
    {
     "data": {
      "image/png": "[encoded data removed]",
      "text/plain": [
       "<Figure size 432x288 with 1 Axes>"
      ]
     },
     "metadata": {
      "needs_background": "light"
     },
     "output_type": "display_data"
    },
    {
     "data": {
      "text/html": [
       "<div>\n",
       "<style scoped>\n",
       "    .dataframe tbody tr th:only-of-type {\n",
       "        vertical-align: middle;\n",
       "    }\n",
       "\n",
       "    .dataframe tbody tr th {\n",
       "        vertical-align: top;\n",
       "    }\n",
       "\n",
       "    .dataframe thead th {\n",
       "        text-align: right;\n",
       "    }\n",
       "</style>\n",
       "<table border=\"1\" class=\"dataframe\">\n",
       "  <thead>\n",
       "    <tr style=\"text-align: right;\">\n",
       "      <th></th>\n",
       "      <th>Cs</th>\n",
       "      <th>Train_acc</th>\n",
       "      <th>Val_acc</th>\n",
       "    </tr>\n",
       "  </thead>\n",
       "  <tbody>\n",
       "    <tr>\n",
       "      <th>0</th>\n",
       "      <td>0.0001</td>\n",
       "      <td>0.756243</td>\n",
       "      <td>0.641350</td>\n",
       "    </tr>\n",
       "    <tr>\n",
       "      <th>1</th>\n",
       "      <td>0.0010</td>\n",
       "      <td>0.760816</td>\n",
       "      <td>0.635724</td>\n",
       "    </tr>\n",
       "    <tr>\n",
       "      <th>2</th>\n",
       "      <td>0.0100</td>\n",
       "      <td>0.783327</td>\n",
       "      <td>0.661041</td>\n",
       "    </tr>\n",
       "    <tr>\n",
       "      <th>3</th>\n",
       "      <td>0.1000</td>\n",
       "      <td>0.883574</td>\n",
       "      <td>0.693390</td>\n",
       "    </tr>\n",
       "    <tr>\n",
       "      <th>4</th>\n",
       "      <td>1.0000</td>\n",
       "      <td>0.980654</td>\n",
       "      <td>0.687764</td>\n",
       "    </tr>\n",
       "    <tr>\n",
       "      <th>5</th>\n",
       "      <td>10.0000</td>\n",
       "      <td>0.999648</td>\n",
       "      <td>0.662447</td>\n",
       "    </tr>\n",
       "    <tr>\n",
       "      <th>6</th>\n",
       "      <td>100.0000</td>\n",
       "      <td>1.000000</td>\n",
       "      <td>0.658228</td>\n",
       "    </tr>\n",
       "    <tr>\n",
       "      <th>7</th>\n",
       "      <td>1000.0000</td>\n",
       "      <td>1.000000</td>\n",
       "      <td>0.665260</td>\n",
       "    </tr>\n",
       "  </tbody>\n",
       "</table>\n",
       "</div>"
      ],
      "text/plain": [
       "          Cs  Train_acc   Val_acc\n",
       "0     0.0001   0.756243  0.641350\n",
       "1     0.0010   0.760816  0.635724\n",
       "2     0.0100   0.783327  0.661041\n",
       "3     0.1000   0.883574  0.693390\n",
       "4     1.0000   0.980654  0.687764\n",
       "5    10.0000   0.999648  0.662447\n",
       "6   100.0000   1.000000  0.658228\n",
       "7  1000.0000   1.000000  0.665260"
      ]
     },
     "execution_count": 71,
     "metadata": {},
     "output_type": "execute_result"
    }
   ],
   "source": [
    "plt_LOGIT(f_train_stemming, labels_train, f_val_stemming, labels_val, Cs=Cs)"
   ]
  },
  {
   "cell_type": "code",
   "execution_count": 72,
   "metadata": {},
   "outputs": [
    {
     "name": "stdout",
     "output_type": "stream",
     "text": [
      "2.0 2.0\n"
     ]
    },
    {
     "data": {
      "image/png": "[encoded data removed]",
      "text/plain": [
       "<Figure size 864x576 with 4 Axes>"
      ]
     },
     "metadata": {
      "needs_background": "light"
     },
     "output_type": "display_data"
    }
   ],
   "source": [
    "accs_stemming = mul_kernels_SVM(f_train_stemming, labels_train, f_val_stemming, labels_val, Cs=Cs, kernels=kernels, do_SVM=do_SVM)"
   ]
  },
  {
   "cell_type": "code",
   "execution_count": 75,
   "metadata": {},
   "outputs": [
    {
     "data": {
      "text/html": [
       "<div>\n",
       "<style scoped>\n",
       "    .dataframe tbody tr th:only-of-type {\n",
       "        vertical-align: middle;\n",
       "    }\n",
       "\n",
       "    .dataframe tbody tr th {\n",
       "        vertical-align: top;\n",
       "    }\n",
       "\n",
       "    .dataframe thead th {\n",
       "        text-align: right;\n",
       "    }\n",
       "</style>\n",
       "<table border=\"1\" class=\"dataframe\">\n",
       "  <thead>\n",
       "    <tr style=\"text-align: right;\">\n",
       "      <th></th>\n",
       "      <th>C</th>\n",
       "      <th>Train_acc</th>\n",
       "      <th>Val_acc</th>\n",
       "    </tr>\n",
       "  </thead>\n",
       "  <tbody>\n",
       "    <tr>\n",
       "      <th>0</th>\n",
       "      <td>0.0001</td>\n",
       "      <td>0.500176</td>\n",
       "      <td>0.509142</td>\n",
       "    </tr>\n",
       "    <tr>\n",
       "      <th>1</th>\n",
       "      <td>0.0010</td>\n",
       "      <td>0.500176</td>\n",
       "      <td>0.509142</td>\n",
       "    </tr>\n",
       "    <tr>\n",
       "      <th>2</th>\n",
       "      <td>0.0100</td>\n",
       "      <td>0.724235</td>\n",
       "      <td>0.631505</td>\n",
       "    </tr>\n",
       "    <tr>\n",
       "      <th>3</th>\n",
       "      <td>0.1000</td>\n",
       "      <td>0.926838</td>\n",
       "      <td>0.675105</td>\n",
       "    </tr>\n",
       "    <tr>\n",
       "      <th>4</th>\n",
       "      <td>1.0000</td>\n",
       "      <td>0.994372</td>\n",
       "      <td>0.659634</td>\n",
       "    </tr>\n",
       "    <tr>\n",
       "      <th>5</th>\n",
       "      <td>10.0000</td>\n",
       "      <td>1.000000</td>\n",
       "      <td>0.654008</td>\n",
       "    </tr>\n",
       "    <tr>\n",
       "      <th>6</th>\n",
       "      <td>100.0000</td>\n",
       "      <td>1.000000</td>\n",
       "      <td>0.654008</td>\n",
       "    </tr>\n",
       "    <tr>\n",
       "      <th>7</th>\n",
       "      <td>1000.0000</td>\n",
       "      <td>1.000000</td>\n",
       "      <td>0.654008</td>\n",
       "    </tr>\n",
       "  </tbody>\n",
       "</table>\n",
       "</div>"
      ],
      "text/plain": [
       "           C  Train_acc   Val_acc\n",
       "0     0.0001   0.500176  0.509142\n",
       "1     0.0010   0.500176  0.509142\n",
       "2     0.0100   0.724235  0.631505\n",
       "3     0.1000   0.926838  0.675105\n",
       "4     1.0000   0.994372  0.659634\n",
       "5    10.0000   1.000000  0.654008\n",
       "6   100.0000   1.000000  0.654008\n",
       "7  1000.0000   1.000000  0.654008"
      ]
     },
     "execution_count": 75,
     "metadata": {},
     "output_type": "execute_result"
    }
   ],
   "source": [
    "accs_stemming[0]#Linear Kernel"
   ]
  },
  {
   "cell_type": "markdown",
   "metadata": {},
   "source": [
    "> o) Varíe la representación utilizada actualmente por alguna otra que ayude a mejorar el desempeño, por ejemplo reducir el peso de una palabra si es que aparece en muchos textos: TF-IDF. Existen varias opciones que podría realizar para mejorar el desempeño, por ejemplo reducir el vocabulario a las $K$ palabras más frecuentes, eliminar las palabras menos frecuentes, normalizar la representación, utilizar *n-gramas*, entre otras."
   ]
  },
  {
   "cell_type": "code",
   "execution_count": 54,
   "metadata": {},
   "outputs": [],
   "source": [
    "common_words = get_common_words(texts_train, n = 4000)\n",
    "texts_train_2 = [word_extractor(text, type='Lemmatizer', common_words=common_words) for text in df_train_text]\n",
    "texts_val_2 = [word_extractor(text, type='Lemmatizer', common_words=common_words) for text in df_val_text]\n",
    "texts_test_2 = [word_extractor(text, type='Lemmatizer', common_words=common_words) for text in df_test_text]"
   ]
  },
  {
   "cell_type": "code",
   "execution_count": 55,
   "metadata": {
    "scrolled": true
   },
   "outputs": [],
   "source": [
    "from sklearn.feature_extraction.text import TfidfVectorizer\n",
    "\n",
    "N_h = [ 2**i for i in range(1,10)]\n",
    "\n",
    "tfidf_model = TfidfVectorizer(binary=False, ngram_range=(1, 2), max_df=1.0, min_df=1, max_features=None, norm='l2', use_idf=True, sublinear_tf=False)\n",
    "tfidf_model.fit(texts_train_2)\n",
    "x = tfidf_model.transform(texts_train_2)\n",
    "x_val = tfidf_model.transform(texts_val_2)\n",
    "x_test = tfidf_model.transform(texts_test)"
   ]
  },
  {
   "cell_type": "code",
   "execution_count": 56,
   "metadata": {},
   "outputs": [
    {
     "data": {
      "image/png": "[encoded data removed]",
      "text/plain": [
       "<Figure size 432x288 with 1 Axes>"
      ]
     },
     "metadata": {
      "needs_background": "light"
     },
     "output_type": "display_data"
    },
    {
     "data": {
      "text/html": [
       "<div>\n",
       "<style scoped>\n",
       "    .dataframe tbody tr th:only-of-type {\n",
       "        vertical-align: middle;\n",
       "    }\n",
       "\n",
       "    .dataframe tbody tr th {\n",
       "        vertical-align: top;\n",
       "    }\n",
       "\n",
       "    .dataframe thead th {\n",
       "        text-align: right;\n",
       "    }\n",
       "</style>\n",
       "<table border=\"1\" class=\"dataframe\">\n",
       "  <thead>\n",
       "    <tr style=\"text-align: right;\">\n",
       "      <th></th>\n",
       "      <th>Nh</th>\n",
       "      <th>Train_acc</th>\n",
       "      <th>Test_acc</th>\n",
       "    </tr>\n",
       "  </thead>\n",
       "  <tbody>\n",
       "    <tr>\n",
       "      <th>0</th>\n",
       "      <td>2</td>\n",
       "      <td>0.705593</td>\n",
       "      <td>0.587904</td>\n",
       "    </tr>\n",
       "    <tr>\n",
       "      <th>1</th>\n",
       "      <td>4</td>\n",
       "      <td>0.831868</td>\n",
       "      <td>0.634318</td>\n",
       "    </tr>\n",
       "    <tr>\n",
       "      <th>2</th>\n",
       "      <td>8</td>\n",
       "      <td>0.513190</td>\n",
       "      <td>0.516174</td>\n",
       "    </tr>\n",
       "    <tr>\n",
       "      <th>3</th>\n",
       "      <td>16</td>\n",
       "      <td>0.679212</td>\n",
       "      <td>0.578059</td>\n",
       "    </tr>\n",
       "    <tr>\n",
       "      <th>4</th>\n",
       "      <td>32</td>\n",
       "      <td>0.674288</td>\n",
       "      <td>0.569620</td>\n",
       "    </tr>\n",
       "    <tr>\n",
       "      <th>5</th>\n",
       "      <td>64</td>\n",
       "      <td>0.858952</td>\n",
       "      <td>0.658228</td>\n",
       "    </tr>\n",
       "    <tr>\n",
       "      <th>6</th>\n",
       "      <td>128</td>\n",
       "      <td>0.882870</td>\n",
       "      <td>0.670886</td>\n",
       "    </tr>\n",
       "    <tr>\n",
       "      <th>7</th>\n",
       "      <td>256</td>\n",
       "      <td>0.875132</td>\n",
       "      <td>0.639944</td>\n",
       "    </tr>\n",
       "    <tr>\n",
       "      <th>8</th>\n",
       "      <td>512</td>\n",
       "      <td>0.886036</td>\n",
       "      <td>0.659634</td>\n",
       "    </tr>\n",
       "  </tbody>\n",
       "</table>\n",
       "</div>"
      ],
      "text/plain": [
       "    Nh  Train_acc  Test_acc\n",
       "0    2   0.705593  0.587904\n",
       "1    4   0.831868  0.634318\n",
       "2    8   0.513190  0.516174\n",
       "3   16   0.679212  0.578059\n",
       "4   32   0.674288  0.569620\n",
       "5   64   0.858952  0.658228\n",
       "6  128   0.882870  0.670886\n",
       "7  256   0.875132  0.639944\n",
       "8  512   0.886036  0.659634"
      ]
     },
     "execution_count": 56,
     "metadata": {},
     "output_type": "execute_result"
    }
   ],
   "source": [
    "plt_ANN(x, labels_train, x_val, labels_val, N_h, act_hidden='relu')"
   ]
  },
  {
   "cell_type": "code",
   "execution_count": 57,
   "metadata": {},
   "outputs": [
    {
     "name": "stdout",
     "output_type": "stream",
     "text": [
      "2.0 2.0\n"
     ]
    },
    {
     "data": {
      "image/png": "[encoded data removed]",
      "text/plain": [
       "<Figure size 864x576 with 4 Axes>"
      ]
     },
     "metadata": {
      "needs_background": "light"
     },
     "output_type": "display_data"
    }
   ],
   "source": [
    "acc_cw = mul_kernels_SVM(x, labels_train, x_val, labels_val, Cs=Cs, kernels=kernels, do_SVM=do_SVM)"
   ]
  },
  {
   "cell_type": "code",
   "execution_count": 58,
   "metadata": {},
   "outputs": [
    {
     "data": {
      "text/html": [
       "<div>\n",
       "<style scoped>\n",
       "    .dataframe tbody tr th:only-of-type {\n",
       "        vertical-align: middle;\n",
       "    }\n",
       "\n",
       "    .dataframe tbody tr th {\n",
       "        vertical-align: top;\n",
       "    }\n",
       "\n",
       "    .dataframe thead th {\n",
       "        text-align: right;\n",
       "    }\n",
       "</style>\n",
       "<table border=\"1\" class=\"dataframe\">\n",
       "  <thead>\n",
       "    <tr style=\"text-align: right;\">\n",
       "      <th></th>\n",
       "      <th>C</th>\n",
       "      <th>Train_acc</th>\n",
       "      <th>Test_acc</th>\n",
       "    </tr>\n",
       "  </thead>\n",
       "  <tbody>\n",
       "    <tr>\n",
       "      <th>0</th>\n",
       "      <td>0.0001</td>\n",
       "      <td>0.500176</td>\n",
       "      <td>0.509142</td>\n",
       "    </tr>\n",
       "    <tr>\n",
       "      <th>1</th>\n",
       "      <td>0.0010</td>\n",
       "      <td>0.500176</td>\n",
       "      <td>0.509142</td>\n",
       "    </tr>\n",
       "    <tr>\n",
       "      <th>2</th>\n",
       "      <td>0.0100</td>\n",
       "      <td>0.500176</td>\n",
       "      <td>0.509142</td>\n",
       "    </tr>\n",
       "    <tr>\n",
       "      <th>3</th>\n",
       "      <td>0.1000</td>\n",
       "      <td>0.503693</td>\n",
       "      <td>0.514768</td>\n",
       "    </tr>\n",
       "    <tr>\n",
       "      <th>4</th>\n",
       "      <td>1.0000</td>\n",
       "      <td>0.993669</td>\n",
       "      <td>0.713080</td>\n",
       "    </tr>\n",
       "    <tr>\n",
       "      <th>5</th>\n",
       "      <td>10.0000</td>\n",
       "      <td>0.997890</td>\n",
       "      <td>0.691983</td>\n",
       "    </tr>\n",
       "    <tr>\n",
       "      <th>6</th>\n",
       "      <td>100.0000</td>\n",
       "      <td>0.998241</td>\n",
       "      <td>0.700422</td>\n",
       "    </tr>\n",
       "    <tr>\n",
       "      <th>7</th>\n",
       "      <td>1000.0000</td>\n",
       "      <td>0.998241</td>\n",
       "      <td>0.656821</td>\n",
       "    </tr>\n",
       "  </tbody>\n",
       "</table>\n",
       "</div>"
      ],
      "text/plain": [
       "           C  Train_acc  Test_acc\n",
       "0     0.0001   0.500176  0.509142\n",
       "1     0.0010   0.500176  0.509142\n",
       "2     0.0100   0.500176  0.509142\n",
       "3     0.1000   0.503693  0.514768\n",
       "4     1.0000   0.993669  0.713080\n",
       "5    10.0000   0.997890  0.691983\n",
       "6   100.0000   0.998241  0.700422\n",
       "7  1000.0000   0.998241  0.656821"
      ]
     },
     "execution_count": 58,
     "metadata": {},
     "output_type": "execute_result"
    }
   ],
   "source": [
    "acc_cw[0]# Kernel Lineal"
   ]
  },
  {
   "cell_type": "code",
   "execution_count": 59,
   "metadata": {},
   "outputs": [
    {
     "data": {
      "image/png": "[encoded data removed]",
      "text/plain": [
       "<Figure size 432x288 with 1 Axes>"
      ]
     },
     "metadata": {
      "needs_background": "light"
     },
     "output_type": "display_data"
    },
    {
     "data": {
      "text/html": [
       "<div>\n",
       "<style scoped>\n",
       "    .dataframe tbody tr th:only-of-type {\n",
       "        vertical-align: middle;\n",
       "    }\n",
       "\n",
       "    .dataframe tbody tr th {\n",
       "        vertical-align: top;\n",
       "    }\n",
       "\n",
       "    .dataframe thead th {\n",
       "        text-align: right;\n",
       "    }\n",
       "</style>\n",
       "<table border=\"1\" class=\"dataframe\">\n",
       "  <thead>\n",
       "    <tr style=\"text-align: right;\">\n",
       "      <th></th>\n",
       "      <th>Cs</th>\n",
       "      <th>Train_acc</th>\n",
       "      <th>Test_acc</th>\n",
       "    </tr>\n",
       "  </thead>\n",
       "  <tbody>\n",
       "    <tr>\n",
       "      <th>0</th>\n",
       "      <td>0.0001</td>\n",
       "      <td>0.867394</td>\n",
       "      <td>0.662447</td>\n",
       "    </tr>\n",
       "    <tr>\n",
       "      <th>1</th>\n",
       "      <td>0.0010</td>\n",
       "      <td>0.900106</td>\n",
       "      <td>0.684951</td>\n",
       "    </tr>\n",
       "    <tr>\n",
       "      <th>2</th>\n",
       "      <td>0.0100</td>\n",
       "      <td>0.924024</td>\n",
       "      <td>0.701828</td>\n",
       "    </tr>\n",
       "    <tr>\n",
       "      <th>3</th>\n",
       "      <td>0.1000</td>\n",
       "      <td>0.939149</td>\n",
       "      <td>0.694796</td>\n",
       "    </tr>\n",
       "    <tr>\n",
       "      <th>4</th>\n",
       "      <td>1.0000</td>\n",
       "      <td>0.985227</td>\n",
       "      <td>0.710267</td>\n",
       "    </tr>\n",
       "    <tr>\n",
       "      <th>5</th>\n",
       "      <td>10.0000</td>\n",
       "      <td>0.997186</td>\n",
       "      <td>0.706048</td>\n",
       "    </tr>\n",
       "    <tr>\n",
       "      <th>6</th>\n",
       "      <td>100.0000</td>\n",
       "      <td>0.997890</td>\n",
       "      <td>0.707454</td>\n",
       "    </tr>\n",
       "    <tr>\n",
       "      <th>7</th>\n",
       "      <td>1000.0000</td>\n",
       "      <td>0.998241</td>\n",
       "      <td>0.703235</td>\n",
       "    </tr>\n",
       "  </tbody>\n",
       "</table>\n",
       "</div>"
      ],
      "text/plain": [
       "          Cs  Train_acc  Test_acc\n",
       "0     0.0001   0.867394  0.662447\n",
       "1     0.0010   0.900106  0.684951\n",
       "2     0.0100   0.924024  0.701828\n",
       "3     0.1000   0.939149  0.694796\n",
       "4     1.0000   0.985227  0.710267\n",
       "5    10.0000   0.997186  0.706048\n",
       "6   100.0000   0.997890  0.707454\n",
       "7  1000.0000   0.998241  0.703235"
      ]
     },
     "execution_count": 59,
     "metadata": {},
     "output_type": "execute_result"
    }
   ],
   "source": [
    "plt_LOGIT(x, labels_train, x_val, labels_val, Cs)"
   ]
  },
  {
   "cell_type": "markdown",
   "metadata": {},
   "source": [
    "> p) Utilice métricas auxiliares para entender en qué falla su mejor modelo obtenido hasta el momento. ¿La información entregada indica cómo se podría mejorar o cual sería la causa de la falla?"
   ]
  },
  {
   "cell_type": "code",
   "execution_count": 60,
   "metadata": {},
   "outputs": [
    {
     "name": "stdout",
     "output_type": "stream",
     "text": [
      "Detailed Analysis Testing Results ...\n",
      "              precision    recall  f1-score   support\n",
      "\n",
      "         0.0       0.72      0.71      0.72      1803\n",
      "         1.0       0.71      0.72      0.71      1751\n",
      "\n",
      "   micro avg       0.71      0.71      0.71      3554\n",
      "   macro avg       0.71      0.71      0.71      3554\n",
      "weighted avg       0.71      0.71      0.71      3554\n",
      "\n"
     ]
    }
   ],
   "source": [
    "from sklearn.metrics import classification_report\n",
    "\n",
    "model, train_acc, test_acc = do_LOGIT(features_train, labels_train, features_val, labels_val, 1)\n",
    "\n",
    "def score_the_model(model, x, y):\n",
    "    print(\"Detailed Analysis Testing Results ...\")\n",
    "    print(classification_report(y, model.predict(x)))\n",
    "score_the_model(model, features_test, labels_test )"
   ]
  },
  {
   "cell_type": "markdown",
   "metadata": {},
   "source": [
    "> q) Algo que se puede modificar en algunos modelos de aprendizaje es poner peso en cada una de las clases, por ejemplo si una clase es de mayor interés que las otras e interesa reducir más su error. En *sklearn* ésto puede ser realizado con el parámetro de *class_weights*. Por ejemplo, asigne que detectar los textos negativos me interesa 5 veces más que detectar los textos positivos. Comente."
   ]
  },
  {
   "cell_type": "code",
   "execution_count": 61,
   "metadata": {},
   "outputs": [
    {
     "name": "stdout",
     "output_type": "stream",
     "text": [
      "Detailed Analysis Testing Results ...\n",
      "              precision    recall  f1-score   support\n",
      "\n",
      "         0.0       0.72      0.69      0.71      1803\n",
      "         1.0       0.69      0.73      0.71      1751\n",
      "\n",
      "   micro avg       0.71      0.71      0.71      3554\n",
      "   macro avg       0.71      0.71      0.71      3554\n",
      "weighted avg       0.71      0.71      0.71      3554\n",
      "\n"
     ]
    }
   ],
   "source": [
    "classes_weights = {0: 1, 1: 5} #or choose..\n",
    "\n",
    "model= SVM(gamma='auto')\n",
    "model.set_params(C=1,kernel='linear', class_weight=classes_weights) #try rbf and linear at least\n",
    "model.fit(features_train, labels_train)\n",
    "score_the_model(model, features_test, labels_test)"
   ]
  },
  {
   "cell_type": "markdown",
   "metadata": {},
   "source": [
    "> r) Visualice la clasificación que realiza su mejor modelo sobre algunos textos de pruebas ¿Qué entega mas información, una predicción categórica o una continua? ¿Cuál podría ser el beneficio de una o de otra? Comente"
   ]
  },
  {
   "cell_type": "code",
   "execution_count": 62,
   "metadata": {
    "scrolled": true
   },
   "outputs": [
    {
     "name": "stdout",
     "output_type": "stream",
     "text": [
      "True sent:  1.0 -- Pred sent:  [0.37079379 0.62920621]\n",
      "Raw text:  exciting and well-paced .\n",
      "\n",
      "True sent:  1.0 -- Pred sent:  [0.43127458 0.56872542]\n",
      "Raw text:  spider-man is about growing strange hairs , getting a more mature body , and finding it necessary to hide new secretions from the parental units .\n",
      "\n",
      "True sent:  0.0 -- Pred sent:  [0.76093818 0.23906182]\n",
      "Raw text:  for each chuckle there are at least 10 complete misses , many coming from the amazingly lifelike tara reid , whose acting skills are comparable to a cardboard cutout .\n",
      "\n",
      "True sent:  1.0 -- Pred sent:  [0.60778971 0.39221029]\n",
      "Raw text:  every dance becomes about seduction , where backstabbing and betrayals are celebrated , and sex is currency .\n",
      "\n",
      "True sent:  0.0 -- Pred sent:  [0.7758265 0.2241735]\n",
      "Raw text:  burns never really harnesses to full effect the energetic cast .\n",
      "\n",
      "True sent:  1.0 -- Pred sent:  [0.85024389 0.14975611]\n",
      "Raw text:  an interesting story with a pertinent ( cinematically unique ) message , told fairly well and scored to perfection , i found myself struggling to put my finger on that elusive \" missing thing . \"\n",
      "\n",
      "True sent:  1.0 -- Pred sent:  [0.13860474 0.86139526]\n",
      "Raw text:  those who don't entirely 'get' godard's distinctive discourse will still come away with a sense of his reserved but existential poignancy .\n",
      "\n",
      "True sent:  0.0 -- Pred sent:  [0.44786354 0.55213646]\n",
      "Raw text:  set in a 1986 harlem that doesn't look much like anywhere in new york .\n",
      "\n",
      "True sent:  0.0 -- Pred sent:  [0.39196762 0.60803238]\n",
      "Raw text:  rainy days and movies about the disintegration of families always get me down .\n",
      "\n",
      "True sent:  0.0 -- Pred sent:  [0.15543288 0.84456712]\n",
      "Raw text:  the lousy lead performances . . . keep the movie from ever reaching the comic heights it obviously desired .\n",
      "\n",
      "True sent:  0.0 -- Pred sent:  [0.74442206 0.25557794]\n",
      "Raw text:  stale and clichéd to a fault .\n",
      "\n",
      "True sent:  0.0 -- Pred sent:  [0.47954137 0.52045863]\n",
      "Raw text:  for all its highfalutin title and corkscrew narrative , the movie turns out to be not much more than a shaggy human tale .\n",
      "\n",
      "True sent:  0.0 -- Pred sent:  [0.40861048 0.59138952]\n",
      "Raw text:  labute can't avoid a fatal mistake in the modern era : he's changed the male academic from a lower-class brit to an american , a choice that upsets the novel's exquisite balance and shreds the fabric of the film .\n",
      "\n",
      "True sent:  1.0 -- Pred sent:  [0.48899562 0.51100438]\n",
      "Raw text:  thoroughly engrossing and ultimately tragic .\n",
      "\n",
      "True sent:  0.0 -- Pred sent:  [0.35161627 0.64838373]\n",
      "Raw text:  the bottom line with nemesis is the same as it has been with all the films in the series : fans will undoubtedly enjoy it , and the uncommitted needn't waste their time on it .\n",
      "\n"
     ]
    }
   ],
   "source": [
    "log_model, _, _ = do_LOGIT(features_train, labels_train, features_val, labels_val, 1)\n",
    "\n",
    "test_pred = log_model.predict_proba(features_test) #or \".predict\"\n",
    "spl = np.random.randint( 0, len(test_pred), size=15)\n",
    "for text, pred_s, true_s in zip(df_test_text[spl], test_pred[spl], labels_test[spl]):\n",
    "    print(\"True sent: \", true_s, \"-- Pred sent: \",pred_s)\n",
    "    print(\"Raw text: \", text)"
   ]
  },
  {
   "cell_type": "markdown",
   "metadata": {},
   "source": [
    "> s) Comente sobre el desempeño obtenido por los diferentes modelos de aprendizaje utilizados al enfrentar el problema, ¿Dónde pareciera estar la mejora? ¿En la variación de los modelos y sus parámetros o en la modificación de la representación? ¿Cuál modelo de aprendizaje le parece mejor en base a su criterio? ya sea desempeño, tiempo de ejecución comodidad en las decisiones involucradas, etc."
   ]
  },
  {
   "cell_type": "markdown",
   "metadata": {},
   "source": [
    "A partir de los modelos propuestos en este documento, se observo que para este problema el regresor logistico entrego mejores resultados a la hora de predecir, y además en temas de desempeño es el modelo que menos tiempo toma de entrenar en comparación a los demas métodos testeados. Por otro lado se observo que los metodos de Knn y arboles de decisión sufren de mucho overfitting devido a la alta dimensionalidad del problema, por lo que no son recomendables. Por último las SVM y redes neuronales si bien entregaron resultados parecidos en temas de costo computacional son muchos más costosos. "
   ]
  },
  {
   "cell_type": "markdown",
   "metadata": {},
   "source": [
    "<a id=\"segundo\"></a>\n",
    "## 2. Problema de Múltiples Anotaciones\n",
    "\n",
    "El aprendizaje supervisado visto en clases da cuenta que existe una única posible etiqueta $z$ (*ground truth*) asociada a un dato $x$ para poder aprender de los datos. Sin embargo, la definición del *ground truth* en algunos casos puede resultar bastante difícil de definir o bastante costoso, por ejemplo en problemas médicos donde se deben realizar invasivos exámenes para conocer la \"verdad absoluta\". Como alternativa se pueden recolectar múltiples anotaciones desde personas inexpertas en el área para poder estimar el *ground truth*. \n",
    "\n",
    "<img src=\"http://www.irishenvironment.com/wp-content/uploads/2013/11/crowdsourcing.jpg\" title=\"Title text\" width=\"40%\" />\n",
    "\n",
    "En esta actividad se trabajará en el caso en que contamos con múltiples anotaciones por cada dato de entrada $x_i$ dadas por personas inexpertas a través de Amazon Mechanical Turk (__[AMT](https://www.mturk.com/)__), es decir, $y^{(1)}, y^{(2)} \\ldots y^{(T_i)}$. El problema de predicción trabajado será el mismo de la actividad anterior, el análisis de sentimiento de un extracto de texto en Rotten Tomatoes. Los datos trabajados [[8]](#refs) pueden ser descargados de la página del autor."
   ]
  },
  {
   "cell_type": "code",
   "execution_count": 18,
   "metadata": {},
   "outputs": [],
   "source": [
    "import pandas as pd\n",
    "import numpy as np\n",
    "import re\n",
    "df = pd.read_csv(\"./sentiment_polarity/mturk_answers.csv\")"
   ]
  },
  {
   "cell_type": "markdown",
   "metadata": {},
   "source": [
    "> El objetivo de la actividad será el de obtener un modelo predictor del *ground truth* sin entrenar directamente con esto, sino que utilizar las múltiples anotaciones de las personas\n",
    "\n",
    "### Importante\n",
    "* Deberá crear un conjunto aleatorio de pruebas que solo contenga los textos y el sentimiento *ground truth* (sin repeticiones)\n",
    "* Los valores de *ground truth* están **solo para evaluar**, no puede utilizarlos para entrenar o tomar decisiones en su modelo.\n",
    "\n",
    "\n",
    "La métrica de evaluación será el accuracy score\n",
    "from sklearn.metrics import accuracy_score\n",
    "accuracy_score(y_true, y_pred)"
   ]
  },
  {
   "cell_type": "markdown",
   "metadata": {},
   "source": [
    "Primero se dividen los datos siguiendo el principio de Pareto, con un 80% de datos de entrenamiento y 20% de los datos correspondientes a los de Test."
   ]
  },
  {
   "cell_type": "code",
   "execution_count": 20,
   "metadata": {},
   "outputs": [],
   "source": [
    "df = df.sample(frac=1).reset_index(drop=True)\n",
    "test_set = df[:int(len(df)*0.2)] #Test set con 20% de los datos\n",
    "train_set = df[int(len(df)*0.2)+1:] #Set de entrenamiento con 80% de los datos"
   ]
  },
  {
   "cell_type": "markdown",
   "metadata": {},
   "source": [
    "Luego limpiaremos los datos sacando las columnas sin relevancia para el problema o que no corresponden que esten presentes en el respectivo arreglo (como el de ground truth en los datos de entrenamiento), además se reemplaza los valores de la apreciacion de los usuarios y la real por valores binarios, dónde pos = 1 y neg = 0."
   ]
  },
  {
   "cell_type": "code",
   "execution_count": 21,
   "metadata": {},
   "outputs": [],
   "source": [
    "train_set = train_set.drop(columns=\"Input.true_sent\")\n",
    "train_set = train_set.drop(columns=\"Input.original_sentence\")\n",
    "test_set = test_set.drop(columns=\"WorkerId\")\n",
    "test_set = test_set.drop(columns=\"Answer.sent\")"
   ]
  },
  {
   "cell_type": "code",
   "execution_count": 22,
   "metadata": {},
   "outputs": [],
   "source": [
    "train_set.loc[df['Answer.sent'] == 'pos', 'Answer_parse'] = 1\n",
    "train_set.loc[df['Answer.sent'] == 'neg', 'Answer_parse'] = 0\n",
    "\n",
    "test_set.loc[df['Input.true_sent'] == 'pos', 'Answer_parse'] = 1\n",
    "test_set.loc[df['Input.true_sent'] == 'neg', 'Answer_parse'] = 0"
   ]
  },
  {
   "cell_type": "markdown",
   "metadata": {},
   "source": [
    "Con los datos limpios se procede a sacar la media de las apreciaciones de los usauarios hacia algún comentario, agrupándo los datos por el id del comentario y la oración (para sacar el promedio de la misma review y no de otra), finalmente se aproxima el valor al entero más cercano."
   ]
  },
  {
   "cell_type": "code",
   "execution_count": 23,
   "metadata": {},
   "outputs": [],
   "source": [
    "mean = train_set.groupby(['Input.id', 'Input.stemmed_sent'], as_index = False).mean().round(0) \n",
    "mean_test = test_set.groupby(['Input.id', 'Input.stemmed_sent'], as_index = False).mean().round(0) "
   ]
  },
  {
   "cell_type": "markdown",
   "metadata": {},
   "source": [
    "#### Sugerencias\n",
    "Para representar los textos, a diferencia de lo visto en la sección 1, se puede utilizar lo que son la representación vectorial de palabras (*word vectors*), a través de modelos especializados entrenados para aprender una representación en que palabras similares estén cercanas en el espacio vectorial. Puede utilizar los vectores livianos de __[GLOVE](https://nlp.stanford.edu/projects/glove/)__ en su versión entradas en textos de Wikipedia con 6 billones de palabras/tokens."
   ]
  },
  {
   "cell_type": "code",
   "execution_count": 27,
   "metadata": {},
   "outputs": [],
   "source": [
    "from operator import itemgetter\n",
    "EMBEDDING_DIM = 300\n",
    "GLOVE_FILE = f\"glove/glove.6B.{EMBEDDING_DIM}d.txt\"\n",
    "embeddings_index = {}\n",
    "with open(GLOVE_FILE, encoding=\"utf8\") as file:\n",
    "    for line in file:\n",
    "        values = line.split()\n",
    "        embeddings_index[values[0]] = np.asarray(values[1:], dtype='float32')"
   ]
  },
  {
   "cell_type": "markdown",
   "metadata": {},
   "source": [
    "Antes de contruir el clasificador se estructuran los datos de entrenamiento y testing, sacando el word vector para cada palabra de la oración y promediandolos, para finalmente concatenar todos los resultados."
   ]
  },
  {
   "cell_type": "code",
   "execution_count": 28,
   "metadata": {},
   "outputs": [],
   "source": [
    "def top_words(top_dicc_words):\n",
    "    list_sort = sorted(top_dicc_words.values(), key=itemgetter('count'))[-20:]\n",
    "    return list_sort\n",
    "               \n",
    "def generate_columns(sentences_vector):\n",
    "    c = 0\n",
    "    list_aux = []\n",
    "    top_dicc_words = {}\n",
    "    matrix_n = np.empty((0,0))\n",
    "    for rows in sentences_vector['Input.stemmed_sent']:\n",
    "        matrix = np.empty((0,0))\n",
    "        for word in rows.split():\n",
    "            embd = embeddings_index.get(word)\n",
    "            if embd is None:\n",
    "                embd = np.zeros(300)\n",
    "                matrix = embd[np.newaxis,:] if matrix.shape == (0,0) else np.concatenate((matrix, embd[np.newaxis,:]), axis = 0)       \n",
    "            else:\n",
    "                matrix = embd[np.newaxis,:] if matrix.shape == (0,0) else np.concatenate((matrix, embd[np.newaxis,:]), axis = 0)\n",
    "            \n",
    "            if word in top_dicc_words:\n",
    "                top_dicc_words[word]['count'] += 1\n",
    "                top_dicc_words[word]['word'] = word\n",
    "                if c not in top_dicc_words[word]['sentence']:\n",
    "                    top_dicc_words[word]['sentence'].append(c)\n",
    "            else:\n",
    "                top_dicc_words[word] = {'count': 1, 'sentence':[c], 'word': word}\n",
    "                \n",
    "        word_caracs = matrix.mean(0)\n",
    "        matrix_n = word_caracs[np.newaxis,:] if matrix_n.shape == (0,0) else np.concatenate((matrix_n, word_caracs[np.newaxis,:]), axis = 0)\n",
    "        c+=1\n",
    "            \n",
    "    new_df = pd.DataFrame(list_aux)\n",
    "    return matrix_n\n",
    "\n",
    "    \n",
    "matrix_n= generate_columns(mean)"
   ]
  },
  {
   "cell_type": "code",
   "execution_count": 29,
   "metadata": {},
   "outputs": [],
   "source": [
    "matrix_n_test = generate_columns(mean_test)"
   ]
  },
  {
   "cell_type": "markdown",
   "metadata": {},
   "source": [
    "Se contruye un regresor logístico para clasificar los datos y lograr predecir si un comentario es negativo o positivo."
   ]
  },
  {
   "cell_type": "code",
   "execution_count": 30,
   "metadata": {},
   "outputs": [
    {
     "name": "stderr",
     "output_type": "stream",
     "text": [
      "c:\\users\\castillo\\appdata\\local\\programs\\python\\python37\\lib\\site-packages\\sklearn\\linear_model\\logistic.py:433: FutureWarning: Default solver will be changed to 'lbfgs' in 0.22. Specify a solver to silence this warning.\n",
      "  FutureWarning)\n"
     ]
    },
    {
     "name": "stdout",
     "output_type": "stream",
     "text": [
      "Accuracy C=0.25: 0.7084043157296991\n"
     ]
    },
    {
     "name": "stderr",
     "output_type": "stream",
     "text": [
      "c:\\users\\castillo\\appdata\\local\\programs\\python\\python37\\lib\\site-packages\\sklearn\\linear_model\\logistic.py:433: FutureWarning: Default solver will be changed to 'lbfgs' in 0.22. Specify a solver to silence this warning.\n",
      "  FutureWarning)\n"
     ]
    },
    {
     "name": "stdout",
     "output_type": "stream",
     "text": [
      "Accuracy C=0.5: 0.7089721749006247\n"
     ]
    },
    {
     "name": "stderr",
     "output_type": "stream",
     "text": [
      "c:\\users\\castillo\\appdata\\local\\programs\\python\\python37\\lib\\site-packages\\sklearn\\linear_model\\logistic.py:433: FutureWarning: Default solver will be changed to 'lbfgs' in 0.22. Specify a solver to silence this warning.\n",
      "  FutureWarning)\n"
     ]
    },
    {
     "name": "stdout",
     "output_type": "stream",
     "text": [
      "Accuracy C=1: 0.706984667802385\n"
     ]
    },
    {
     "name": "stderr",
     "output_type": "stream",
     "text": [
      "c:\\users\\castillo\\appdata\\local\\programs\\python\\python37\\lib\\site-packages\\sklearn\\linear_model\\logistic.py:433: FutureWarning: Default solver will be changed to 'lbfgs' in 0.22. Specify a solver to silence this warning.\n",
      "  FutureWarning)\n"
     ]
    },
    {
     "name": "stdout",
     "output_type": "stream",
     "text": [
      "Accuracy C=1.05: 0.706984667802385\n"
     ]
    },
    {
     "name": "stderr",
     "output_type": "stream",
     "text": [
      "c:\\users\\castillo\\appdata\\local\\programs\\python\\python37\\lib\\site-packages\\sklearn\\linear_model\\logistic.py:433: FutureWarning: Default solver will be changed to 'lbfgs' in 0.22. Specify a solver to silence this warning.\n",
      "  FutureWarning)\n"
     ]
    },
    {
     "name": "stdout",
     "output_type": "stream",
     "text": [
      "Accuracy C=1.25: 0.7089721749006247\n"
     ]
    }
   ],
   "source": [
    "from sklearn.linear_model import LogisticRegression\n",
    "from sklearn.metrics import accuracy_score\n",
    "from sklearn.model_selection import train_test_split\n",
    "\n",
    "\n",
    "y_train = mean['Answer_parse'].values\n",
    "y_test = mean_test['Answer_parse'].values\n",
    "\n",
    "for c in [0.25, 0.5, 1, 1.05, 1.25]:\n",
    "    lr = LogisticRegression(C=c)\n",
    "    lr.fit(matrix_n, y_train)\n",
    "    print (f\"Accuracy C={c}: {accuracy_score(y_test, lr.predict(matrix_n_test))}\")\n",
    "    \n",
    "# Accuracy C=0.25: 0.7051464316178562\n",
    "# Accuracy C=0.5: 0.7091270969576343\n",
    "# Accuracy C=1: 0.7122547625817458\n",
    "# Accuracy C=1.05: 0.7125390958203014\n",
    "# Accuracy C=1.25: 0.7148137617287461"
   ]
  },
  {
   "cell_type": "code",
   "execution_count": 31,
   "metadata": {},
   "outputs": [
    {
     "name": "stdout",
     "output_type": "stream",
     "text": [
      "('creat', 1.9251893279790004)\n",
      "('plausibl', 1.2740649355782339)\n",
      "('gutsi', 1.2439479044261659)\n",
      "('effect', 1.228078712731891)\n",
      "('probe', 1.2228383699441137)\n",
      "\n",
      "\n",
      "('static', -1.7678378589497028)\n",
      "('rag', -1.4664813916043056)\n",
      "('beauti', -1.419769271102037)\n",
      "('togeth', -1.3391912558810288)\n",
      "('place', -1.277308686187066)\n"
     ]
    }
   ],
   "source": [
    "from nltk import word_tokenize\n",
    "\n",
    "def get_common_words(texts):\n",
    "    all_documents = ''\n",
    "    for t in texts:\n",
    "        all_documents += ' ' + t\n",
    "\n",
    "    return word_tokenize(all_documents)\n",
    "list_words = get_common_words(mean['Input.stemmed_sent'].tolist())\n",
    "feature_to_coef = {\n",
    "    word: coef for word, coef in zip(\n",
    "       list_words, lr.coef_[0]\n",
    "    )\n",
    "}\n",
    "for mejores_positivos in sorted(\n",
    "    feature_to_coef.items(), \n",
    "    key=lambda x: x[1], \n",
    "    reverse=True)[:5]:\n",
    "    print (mejores_positivos)\n",
    "    \n",
    "print('\\n')\n",
    "for mejores_negativos in sorted(\n",
    "    feature_to_coef.items(), \n",
    "    key=lambda x: x[1])[:5]:\n",
    "    print (mejores_negativos)"
   ]
  },
  {
   "cell_type": "markdown",
   "metadata": {},
   "source": [
    "<a id=\"refs\"></a>\n",
    "## Referencias\n",
    "[1] Keras: Deep Learning library for Theano and TensorFlow. https://keras.io/  \n",
    "[2] https://www.kaggle.com/c/sentiment-analysis-on-movie-reviews  \n",
    "[3] https://en.wikipedia.org/wiki/Stopwords  \n",
    "[4] https://en.wikipedia.org/wiki/Lemmatisation  \n",
    "[5] Landauer, T. K., Foltz, P. W., & Laham, D. (1998). *An introduction to latent semantic analysis*. Discourse processes, 25(2-3), 259-284.  \n",
    "[6] https://github.com/cjhutto/vaderSentiment  \n",
    "[7] https://en.wikipedia.org/wiki/Stemming  \n",
    "[8] Rodrigues, F., Pereira, F., & Ribeiro, B. (2013). *Learning from multiple annotators: distinguishing good from random labelers*. Pattern Recognition Letters, 34(12), 1428-1436."
   ]
  }
 ],
 "metadata": {
  "kernelspec": {
   "display_name": "Python 3",
   "language": "python",
   "name": "python3"
  },
  "language_info": {
   "codemirror_mode": {
    "name": "ipython",
    "version": 3
   },
   "file_extension": ".py",
   "mimetype": "text/x-python",
   "name": "python",
   "nbconvert_exporter": "python",
   "pygments_lexer": "ipython3",
   "version": "3.7.3"
  }
 },
 "nbformat": 4,
 "nbformat_minor": 2
}
